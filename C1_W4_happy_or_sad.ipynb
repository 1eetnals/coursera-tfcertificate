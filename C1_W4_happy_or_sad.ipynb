{
  "nbformat": 4,
  "nbformat_minor": 0,
  "metadata": {
    "accelerator": "GPU",
    "colab": {
      "name": "C1_W4_happy_or_sad.ipynb",
      "provenance": [],
      "collapsed_sections": [],
      "include_colab_link": true
    },
    "kernelspec": {
      "name": "python3",
      "display_name": "Python 3"
    },
    "language_info": {
      "name": "python"
    }
  },
  "cells": [
    {
      "cell_type": "markdown",
      "metadata": {
        "id": "view-in-github",
        "colab_type": "text"
      },
      "source": [
        "<a href=\"https://colab.research.google.com/github/1eetnals/coursera-tfcertificate/blob/main/C1_W4_happy_or_sad.ipynb\" target=\"_parent\"><img src=\"https://colab.research.google.com/assets/colab-badge.svg\" alt=\"Open In Colab\"/></a>"
      ]
    },
    {
      "cell_type": "code",
      "metadata": {
        "id": "zX4Kg8DUTKWO"
      },
      "source": [
        "#@title Licensed under the Apache License, Version 2.0 (the \"License\");\n",
        "# you may not use this file except in compliance with the License.\n",
        "# You may obtain a copy of the License at\n",
        "#\n",
        "# https://www.apache.org/licenses/LICENSE-2.0\n",
        "#\n",
        "# Unless required by applicable law or agreed to in writing, software\n",
        "# distributed under the License is distributed on an \"AS IS\" BASIS,\n",
        "# WITHOUT WARRANTIES OR CONDITIONS OF ANY KIND, either express or implied.\n",
        "# See the License for the specific language governing permissions and\n",
        "# limitations under the License."
      ],
      "execution_count": null,
      "outputs": []
    },
    {
      "cell_type": "markdown",
      "metadata": {
        "id": "WcJUcRTODOwB"
      },
      "source": [
        "**Things to Note:**\n",
        "1. When coding the `class myCallback`, Python 3 will run into an error\n",
        "```python\n",
        "TypeError: '>' not supported between instances of 'NoneType' and 'float'\n",
        "```\n",
        "when using the code\n",
        "```python\n",
        "if(logs.get('accuracy')>0.99):\n",
        "```\n",
        "\n",
        "For Python 3, use the following equivalent code line\n",
        "\n",
        "```python\n",
        "if logs.get('accuracy') is not None and logs.get('accuracy') > 0.99:\n",
        "```\n",
        "\n",
        "2. You can run the notebook using TensorFlow 2.5.0"
      ]
    },
    {
      "cell_type": "code",
      "metadata": {
        "id": "ufOC_louDOwC"
      },
      "source": [
        "#!pip install tensorflow==2.5.0"
      ],
      "execution_count": null,
      "outputs": []
    },
    {
      "cell_type": "code",
      "metadata": {
        "id": "kN_59ezmDOwC"
      },
      "source": [
        "# this is used in downloading data from the google drive\n",
        "#!pip install gdown"
      ],
      "execution_count": null,
      "outputs": []
    },
    {
      "cell_type": "markdown",
      "metadata": {
        "id": "GvJbBW_oDOwC"
      },
      "source": [
        "Below is code with a link to a happy or sad dataset which contains 80 images, 40 happy and 40 sad. \n",
        "Create a convolutional neural network that trains to 100% accuracy on these images,  which cancels training upon hitting training accuracy of >.999\n",
        "\n",
        "Hint -- it will work best with 3 convolutional layers.\n",
        "\n",
        "아래는 40개의 행복한 이미지, 40개의 슬픈 이미지를 포함하는 데이터셋에 대한 링크가 있는 코드.\n",
        "이러한 이미지에서 100% 정확도로 훈련하는 컨볼루션 신경망을 만들어 .999의 적중 훈련 정확도보다 올라가면 훈련스탑.\n",
        "\n",
        "힌트 - 3개의 컨볼루션 레이어에서 가장 잘 작동."
      ]
    },
    {
      "cell_type": "code",
      "metadata": {
        "colab": {
          "base_uri": "https://localhost:8080/"
        },
        "id": "3NFuMFYXtwsT",
        "outputId": "e4b36596-5cc8-428a-8883-e5dbc146260a"
      },
      "source": [
        "import tensorflow as tf\n",
        "import os\n",
        "import zipfile\n",
        "\n",
        "!gdown --id 1NvV6VhmrfU8JDZNoEbwJxwx_6dhyN5bf \n",
        "\n",
        "zip_ref = zipfile.ZipFile(\"./happy-or-sad.zip\", 'r')  #zip파일 압축\n",
        "zip_ref.extractall(\"./h-or-s\")  #압축해제\n",
        "zip_ref.close()"
      ],
      "execution_count": null,
      "outputs": [
        {
          "output_type": "stream",
          "name": "stdout",
          "text": [
            "Downloading...\n",
            "From: https://drive.google.com/uc?id=1NvV6VhmrfU8JDZNoEbwJxwx_6dhyN5bf\n",
            "To: /content/happy-or-sad.zip\n",
            "\r  0% 0.00/2.67M [00:00<?, ?B/s]\r100% 2.67M/2.67M [00:00<00:00, 85.7MB/s]\n"
          ]
        }
      ]
    },
    {
      "cell_type": "code",
      "metadata": {
        "id": "eUcNTpra1FK0"
      },
      "source": [
        "# GRADED FUNCTION: train_happy_sad_model\n",
        "def train_happy_sad_model():\n",
        "    # Please write your code only where you are indicated.\n",
        "    # please do not remove # model fitting inline comments.\n",
        "\n",
        "    DESIRED_ACCURACY = 0.999  #원하는 정확도\n",
        "\n",
        "    class myCallback(tf.keras.callbacks.Callback): # YOUR CODE HERE):\n",
        "        \n",
        "        # YOUR CODE START HERE\n",
        "        \n",
        "        def on_epoch_end(self, epoch, logs={}):\n",
        "            if logs.get('accuracy') is not None and logs.get('accuracy') > DESIRED_ACCURACY:\n",
        "                print(\"\\nReached 99.9% accuracy so cancelling training!\")\n",
        "                self.model.stop_training = True\n",
        "         \n",
        "        \n",
        "        # YOUR CODE END HERE\n",
        "        \n",
        "    callbacks = myCallback()\n",
        "    \n",
        "    # This Code Block should Define and Compile the Model. Please assume the images are 150 X 150 in your implementation.\n",
        "    model = tf.keras.models.Sequential([\n",
        "                                        \n",
        "    tf.keras.layers.Conv2D(16, (3,3), activation='relu', input_shape=(150, 150, 3)), # YOUR CODE HERE,\n",
        "    #convolution filter 개수:16(output feature의 채널수), kernel_size(convolution filter):3x3\n",
        "    tf.keras.layers.MaxPooling2D(2, 2), # YOUR CODE HERE,\n",
        "    #pool_size, strides/ stride지정안해주면 풀링필터의 크기와 같음\n",
        "\n",
        "    tf.keras.layers.Conv2D(32, (3,3), activation='relu'), # YOUR CODE HERE,\n",
        "    tf.keras.layers.MaxPooling2D(2,2), # YOUR CODE HERE,\n",
        "\n",
        "    tf.keras.layers.Conv2D(32, (3,3), activation='relu'), # YOUR CODE HERE\n",
        "    tf.keras.layers.MaxPooling2D(2,2), # YOUR CODE HERE\n",
        "\n",
        "    tf.keras.layers.Flatten(), # YOUR CODE HERE\n",
        "    #17x17x32 -> 9248로\n",
        "    tf.keras.layers.Dense(512, activation='relu'), # YOUR CODE HERE\n",
        "    #9248 -> 512로\n",
        "    tf.keras.layers.Dense(1, activation='sigmoid') # YOUR CODE HERE\n",
        "    #512 -> 1로\n",
        "    ])\n",
        "\n",
        "    from tensorflow.keras.optimizers import RMSprop  #RMSprop: Adagrad에서 문제점을 개선하기 위해 Gt계산식에 지수이동평균 적용한것\n",
        "\n",
        "    model.compile(loss='binary_crossentropy', # YOUR CODE HERE,\n",
        "                  optimizer=RMSprop(learning_rate=0.001), # YOUR CODE HERE,\n",
        "                  metrics=['accuracy']) # YOUR CODE HERE)\n",
        "    \n",
        "    # This code block should create an instance of an ImageDataGenerator called train_datagen \n",
        "    # And a train_generator by calling train_datagen.flow_from_directory\n",
        "\n",
        "    from tensorflow.keras.preprocessing.image import ImageDataGenerator\n",
        "\n",
        "    train_datagen = ImageDataGenerator(rescale=1/255) # YOUR CODE HERE\n",
        "\n",
        "    # Please use a target_size of 150 X 150.\n",
        "    train_generator = train_datagen.flow_from_directory( \"./h-or-s\", # YOUR CODE HERE   #flow_from_directory: Numpy Array Iterator 객체를 만들어줌\n",
        "                                                        target_size=(150, 150), # YOUR CODE HERE\n",
        "                                                        batch_size=10, # YOUR CODE HERE\n",
        "                                                        class_mode='binary') # YOUR CODE HERE\n",
        "    # Expected output: 'Found 80 images belonging to 2 classes'\n",
        "\n",
        "    # This code block should call model.fit_generator and train for\n",
        "    # a number of epochs.\n",
        "    # model fitting\n",
        "    history = model.fit(train_generator, # YOUR CODE HERE,\n",
        "                        steps_per_epoch=8, # YOUR CODE HERE,\n",
        "                        epochs=15, # YOUR CODE HERE,\n",
        "                        verbose=1, # YOUR CODE HERE,   #0=slient, 1=progress bar, 2=one line per epoch: 프린트 되는 모양임(모델이 학습될때 뜨는)\n",
        "                        callbacks=[callbacks] # YOUR CODE HERE,\n",
        "                       )\n",
        "    \n",
        "    return history.history['accuracy'][-1]"
      ],
      "execution_count": null,
      "outputs": []
    },
    {
      "cell_type": "code",
      "source": [
        "###이건 내가 그냥 짠거: 모델 층이 어떻게 변화되고, 파라미터가 변화되는지 확인하기 위해\n",
        "\n",
        "model = tf.keras.models.Sequential([\n",
        "                                        \n",
        "    tf.keras.layers.Conv2D(16, (3,3), activation='relu', input_shape=(150, 150, 3)), # YOUR CODE HERE,\n",
        "    #convolution filter 개수:16(output feature의 채널수), kernel_size(convolution filter):3x3\n",
        "    tf.keras.layers.MaxPooling2D(2, 2), # YOUR CODE HERE,\n",
        "    #pool_size, strides\n",
        "\n",
        "    tf.keras.layers.Conv2D(32, (3,3), activation='relu'), # YOUR CODE HERE,\n",
        "    tf.keras.layers.MaxPooling2D(2,2), # YOUR CODE HERE,\n",
        "\n",
        "    tf.keras.layers.Conv2D(32, (3,3), activation='relu'), # YOUR CODE HERE\n",
        "    tf.keras.layers.MaxPooling2D(2,2), # YOUR CODE HERE\n",
        "\n",
        "    tf.keras.layers.Flatten(), # YOUR CODE HERE\n",
        "    tf.keras.layers.Dense(512, activation='relu'), # YOUR CODE HERE\n",
        "    tf.keras.layers.Dense(1, activation='sigmoid') # YOUR CODE HERE\n",
        "    ])\n",
        "model.summary()"
      ],
      "metadata": {
        "colab": {
          "base_uri": "https://localhost:8080/"
        },
        "id": "Yze5GSOUfIEO",
        "outputId": "3d5bd8f3-4099-41f2-9388-c570edb2e356"
      },
      "execution_count": null,
      "outputs": [
        {
          "output_type": "stream",
          "name": "stdout",
          "text": [
            "Model: \"sequential_1\"\n",
            "_________________________________________________________________\n",
            " Layer (type)                Output Shape              Param #   \n",
            "=================================================================\n",
            " conv2d_3 (Conv2D)           (None, 148, 148, 16)      448       \n",
            "                                                                 \n",
            " max_pooling2d_3 (MaxPooling  (None, 74, 74, 16)       0         \n",
            " 2D)                                                             \n",
            "                                                                 \n",
            " conv2d_4 (Conv2D)           (None, 72, 72, 32)        4640      \n",
            "                                                                 \n",
            " max_pooling2d_4 (MaxPooling  (None, 36, 36, 32)       0         \n",
            " 2D)                                                             \n",
            "                                                                 \n",
            " conv2d_5 (Conv2D)           (None, 34, 34, 32)        9248      \n",
            "                                                                 \n",
            " max_pooling2d_5 (MaxPooling  (None, 17, 17, 32)       0         \n",
            " 2D)                                                             \n",
            "                                                                 \n",
            " flatten_1 (Flatten)         (None, 9248)              0         \n",
            "                                                                 \n",
            " dense_2 (Dense)             (None, 512)               4735488   \n",
            "                                                                 \n",
            " dense_3 (Dense)             (None, 1)                 513       \n",
            "                                                                 \n",
            "=================================================================\n",
            "Total params: 4,750,337\n",
            "Trainable params: 4,750,337\n",
            "Non-trainable params: 0\n",
            "_________________________________________________________________\n"
          ]
        }
      ]
    },
    {
      "cell_type": "markdown",
      "source": [
        "### tf.keras.callbacks.Callback\n",
        "새로운 Callback을 만들기 위해서는 tf.keras.callbacks.Callback을 상속해서 새로운 클래스를 만든다.\n",
        "\n",
        "- on_epoch_begin(epoch, logs=None): 매번 epoch이 시작될 때 호출됨. epoch는 0으로 시작하는 현재 epoch의 index. \n",
        "- on_epoch_end(epoch, logs=None): 매번 epoch이 끝날 때 호출됨.logs['loss']는 현재 epoch 기준 loss가 저장됨. 이 외에 model.fit() 인자에 따라서 acc, val_loss 등도 저장됨.\n",
        "- on_train_batch_begin(batch, logs=None): 매번 훈련 batch가 시작될 때 호출됨. batch는 0으로 시작하는 현재 batch의 index.\n",
        "- on_train_batch_end(batch, logs=None): 매번 훈련 batch가 끝날 때 호출됨.\n",
        "- on_train_begin(logs=None): 훈련이 시작될 때 호출됨.\n",
        "- on_train_end(logs=None): 훈련이 끝날 때 호출됨.\n"
      ],
      "metadata": {
        "id": "7_9ZY8osbnm7"
      }
    },
    {
      "cell_type": "code",
      "metadata": {
        "colab": {
          "base_uri": "https://localhost:8080/"
        },
        "id": "sSaPPUe_z_OU",
        "outputId": "8969967d-87e9-43e6-ac49-bbb0a8d1f291"
      },
      "source": [
        "train_happy_sad_model()"
      ],
      "execution_count": null,
      "outputs": [
        {
          "output_type": "stream",
          "name": "stdout",
          "text": [
            "Found 80 images belonging to 2 classes.\n",
            "Epoch 1/15\n",
            "8/8 [==============================] - 14s 26ms/step - loss: 0.9356 - accuracy: 0.5250\n",
            "Epoch 2/15\n",
            "8/8 [==============================] - 0s 25ms/step - loss: 0.6259 - accuracy: 0.7125\n",
            "Epoch 3/15\n",
            "8/8 [==============================] - 0s 26ms/step - loss: 0.3463 - accuracy: 0.9000\n",
            "Epoch 4/15\n",
            "8/8 [==============================] - 0s 24ms/step - loss: 0.2008 - accuracy: 0.9625\n",
            "Epoch 5/15\n",
            "8/8 [==============================] - 0s 25ms/step - loss: 0.0881 - accuracy: 0.9625\n",
            "Epoch 6/15\n",
            "8/8 [==============================] - 0s 24ms/step - loss: 0.0867 - accuracy: 0.9750\n",
            "Epoch 7/15\n",
            "8/8 [==============================] - 0s 27ms/step - loss: 0.0454 - accuracy: 0.9750\n",
            "Epoch 8/15\n",
            "7/8 [=========================>....] - ETA: 0s - loss: 0.0184 - accuracy: 1.0000\n",
            "Reached 99.9% accuracy so cancelling training!\n",
            "8/8 [==============================] - 0s 27ms/step - loss: 0.0209 - accuracy: 1.0000\n"
          ]
        },
        {
          "output_type": "execute_result",
          "data": {
            "text/plain": [
              "1.0"
            ]
          },
          "metadata": {},
          "execution_count": 3
        }
      ]
    },
    {
      "cell_type": "code",
      "metadata": {
        "id": "0imravDn0Ajz"
      },
      "source": [
        ""
      ],
      "execution_count": null,
      "outputs": []
    }
  ]
}