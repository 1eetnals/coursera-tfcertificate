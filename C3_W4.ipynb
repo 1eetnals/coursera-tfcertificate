{
  "nbformat": 4,
  "nbformat_minor": 0,
  "metadata": {
    "accelerator": "GPU",
    "colab": {
      "name": "C3_W4.ipynb",
      "provenance": [],
      "collapsed_sections": [],
      "include_colab_link": true
    },
    "kernelspec": {
      "name": "python3",
      "display_name": "Python 3"
    },
    "language_info": {
      "name": "python"
    }
  },
  "cells": [
    {
      "cell_type": "markdown",
      "metadata": {
        "id": "view-in-github",
        "colab_type": "text"
      },
      "source": [
        "<a href=\"https://colab.research.google.com/github/1eetnals/coursera-tfcertificate/blob/main/C3_W4.ipynb\" target=\"_parent\"><img src=\"https://colab.research.google.com/assets/colab-badge.svg\" alt=\"Open In Colab\"/></a>"
      ]
    },
    {
      "cell_type": "code",
      "metadata": {
        "id": "zX4Kg8DUTKWO"
      },
      "source": [
        "#@title Licensed under the Apache License, Version 2.0 (the \"License\");\n",
        "# you may not use this file except in compliance with the License.\n",
        "# You may obtain a copy of the License at\n",
        "#\n",
        "# https://www.apache.org/licenses/LICENSE-2.0\n",
        "#\n",
        "# Unless required by applicable law or agreed to in writing, software\n",
        "# distributed under the License is distributed on an \"AS IS\" BASIS,\n",
        "# WITHOUT WARRANTIES OR CONDITIONS OF ANY KIND, either express or implied.\n",
        "# See the License for the specific language governing permissions and\n",
        "# limitations under the License."
      ],
      "execution_count": null,
      "outputs": []
    },
    {
      "cell_type": "markdown",
      "metadata": {
        "id": "NeQByOlMmtn8"
      },
      "source": [
        "**Note:** This notebook can run using TensorFlow 2.5.0"
      ]
    },
    {
      "cell_type": "code",
      "metadata": {
        "id": "QtWdoQT_mtn8"
      },
      "source": [
        "#!pip install tensorflow==2.5.0"
      ],
      "execution_count": null,
      "outputs": []
    },
    {
      "cell_type": "code",
      "metadata": {
        "id": "BOwsuGQQY9OL"
      },
      "source": [
        "from tensorflow.keras.preprocessing.sequence import pad_sequences\n",
        "from tensorflow.keras.layers import Embedding, LSTM, Dense, Dropout, Bidirectional\n",
        "from tensorflow.keras.preprocessing.text import Tokenizer\n",
        "from tensorflow.keras.models import Sequential\n",
        "from tensorflow.keras.optimizers import Adam\n",
        "from tensorflow.keras import regularizers\n",
        "import tensorflow.keras.utils as ku \n",
        "import numpy as np "
      ],
      "execution_count": null,
      "outputs": []
    },
    {
      "cell_type": "code",
      "metadata": {
        "id": "PRnDnCW-Z7qv",
        "colab": {
          "base_uri": "https://localhost:8080/"
        },
        "outputId": "2af2d818-c908-42f8-8809-f76e591ea9e2"
      },
      "source": [
        "#tokenizer -> fit_on_texts -> word_index -> texts_to_sequences -> pad_sequences 이순으로 똑같이 진행된단거 보면됌\n",
        "\n",
        "tokenizer = Tokenizer()\n",
        "\n",
        "# sonnets.txt\n",
        "!gdown --id 108jAePKK4R3BVYBbYJZ32JWUwxeMg20K\n",
        "\n",
        "data = open('./sonnets.txt').read()\n",
        "#print(data[0:10])\n",
        "corpus = data.lower().split(\"\\n\")   #'\\n'단위로 끊어서 소문자로 변형시켜 저장\n",
        "#print(corpus[0])\n",
        "\n",
        "tokenizer.fit_on_texts(corpus)\n",
        "total_words = len(tokenizer.word_index) + 1\n",
        "\n",
        "# create input sequences using list of tokens\n",
        "input_sequences = []\n",
        "for line in corpus:\n",
        "\ttoken_list = tokenizer.texts_to_sequences([line])[0]  #tokenizer.text_to_sequences : [[34, 417, 877, 166, 213, 517]]\n",
        "\t#token_list : [34, 417, 877, 166, 213, 517]\n",
        "\tfor i in range(1, len(token_list)):\n",
        "\t\tn_gram_sequence = token_list[:i+1]\n",
        "\t\tinput_sequences.append(n_gram_sequence)\n",
        "\t\t#input_sequences : [[34, 417], [34, 417, 877], [34, 417, 877, 166], [34, 417, 877, 166, 213], [34, 417, 877, 166, 213, 517]] 다음과 같이 출력됌\n",
        "\n",
        "\n",
        "# pad sequences \n",
        "max_sequence_len = max([len(x) for x in input_sequences])\n",
        "input_sequences = np.array(pad_sequences(input_sequences, maxlen=max_sequence_len, padding='pre'))\n",
        "#print(input_sequences) : \n",
        "\"\"\"[[   0    0    0 ...    0   34  417]\n",
        " [   0    0    0 ...   34  417  877]\n",
        " [   0    0    0 ...  417  877  166]\n",
        " ...\n",
        " [   0    0    0 ...  493  493 3210]\n",
        " [   0    0    0 ...  493 3210   15]\n",
        " [   0    0    0 ... 3210   15   14]]\"\"\"\n",
        "\n",
        "\n",
        "# create predictors and label\n",
        "predictors, label = input_sequences[:,:-1],input_sequences[:,-1]\n",
        "#print(predictors):\n",
        "\"\"\"[[   0    0    0 ...    0    0   34]\n",
        " [   0    0    0 ...    0   34  417]\n",
        " [   0    0    0 ...   34  417  877]\n",
        " ...\n",
        " [   0    0    0 ... 3209  493  493]\n",
        " [   0    0    0 ...  493  493 3210]\n",
        " [   0    0    0 ...  493 3210   15]]\"\"\"\n",
        "#print(label):\n",
        "\"\"\"\n",
        "[ 417  877  166 ... 3210   15   14]\"\"\"\n",
        "\n",
        "label = ku.to_categorical(label, num_classes=total_words)\n",
        "#to_categorical 함수 : one-hot encoding해주는 함수 (클래스 벡터(정수)를 이진 클래스 행렬로 변환)\n",
        "#y=label: 행렬로 변환할 클래스 벡터 (0부터 num_classes까지의 정수)\n",
        "#num_classes: 클래스의 총 개수.\n",
        "#dtype: 문자열로 표현된 인풋의 데이터 자료형 (float32, float64, int32...)"
      ],
      "execution_count": null,
      "outputs": [
        {
          "output_type": "stream",
          "name": "stdout",
          "text": [
            "Downloading...\n",
            "From: https://drive.google.com/uc?id=108jAePKK4R3BVYBbYJZ32JWUwxeMg20K\n",
            "To: /content/sonnets.txt\n",
            "\r  0% 0.00/93.6k [00:00<?, ?B/s]\r100% 93.6k/93.6k [00:00<00:00, 72.0MB/s]\n"
          ]
        }
      ]
    },
    {
      "cell_type": "code",
      "metadata": {
        "id": "w9vH8Y59ajYL",
        "colab": {
          "base_uri": "https://localhost:8080/"
        },
        "outputId": "696fef30-0df3-4416-ce67-a364ffe34786"
      },
      "source": [
        "### START CODE HERE\n",
        "model = Sequential()\n",
        "model.add(Embedding(total_words, 100, input_length=max_sequence_len-1))# Your Embedding Layer)\n",
        "#total_words : 3211, input_length = 11-1=10\n",
        "model.add(Bidirectional(LSTM(150, return_sequences = True)))# An LSTM Layer)\n",
        "model.add(Dropout(0.2))# A dropout layer)\n",
        "model.add(LSTM(100))# Another LSTM Layer)\n",
        "model.add(Dense(total_words/2, activation='relu', kernel_regularizer=regularizers.l2(0.01)))# A Dense Layer including regularizers)\n",
        "model.add(Dense(total_words, activation='softmax'))# A Dense Layer)\n",
        "# Pick an optimizer\n",
        "# #모델학습과정설명\n",
        "model.compile(loss='categorical_crossentropy', optimizer='adam', metrics=['accuracy'])# Pick a loss function and an optimizer)\n",
        "### END CODE HERE\n",
        "\n",
        "print(model.summary())"
      ],
      "execution_count": null,
      "outputs": [
        {
          "output_type": "stream",
          "name": "stdout",
          "text": [
            "Model: \"sequential_1\"\n",
            "_________________________________________________________________\n",
            " Layer (type)                Output Shape              Param #   \n",
            "=================================================================\n",
            " embedding_1 (Embedding)     (None, 10, 100)           321100    \n",
            "                                                                 \n",
            " bidirectional_1 (Bidirectio  (None, 10, 300)          301200    \n",
            " nal)                                                            \n",
            "                                                                 \n",
            " dropout_1 (Dropout)         (None, 10, 300)           0         \n",
            "                                                                 \n",
            " lstm_3 (LSTM)               (None, 100)               160400    \n",
            "                                                                 \n",
            " dense_2 (Dense)             (None, 1605)              162105    \n",
            "                                                                 \n",
            " dense_3 (Dense)             (None, 3211)              5156866   \n",
            "                                                                 \n",
            "=================================================================\n",
            "Total params: 6,101,671\n",
            "Trainable params: 6,101,671\n",
            "Non-trainable params: 0\n",
            "_________________________________________________________________\n",
            "None\n"
          ]
        }
      ]
    },
    {
      "cell_type": "code",
      "metadata": {
        "id": "AIg2f1HBxqof",
        "colab": {
          "base_uri": "https://localhost:8080/"
        },
        "outputId": "c3bfc73f-a04f-40af-ce17-c11bb89dbe5e"
      },
      "source": [
        " history = model.fit(predictors, label, epochs=100, verbose=1)\n",
        " # 모델 학습시키기"
      ],
      "execution_count": null,
      "outputs": [
        {
          "output_type": "stream",
          "name": "stdout",
          "text": [
            "Epoch 1/100\n",
            "484/484 [==============================] - 21s 26ms/step - loss: 6.9093 - accuracy: 0.0231\n",
            "Epoch 2/100\n",
            "484/484 [==============================] - 13s 27ms/step - loss: 6.4999 - accuracy: 0.0229\n",
            "Epoch 3/100\n",
            "484/484 [==============================] - 13s 27ms/step - loss: 6.4107 - accuracy: 0.0244\n",
            "Epoch 4/100\n",
            "484/484 [==============================] - 13s 27ms/step - loss: 6.2928 - accuracy: 0.0306\n",
            "Epoch 5/100\n",
            "484/484 [==============================] - 13s 26ms/step - loss: 6.1967 - accuracy: 0.0324\n",
            "Epoch 6/100\n",
            "484/484 [==============================] - 13s 26ms/step - loss: 6.1134 - accuracy: 0.0387\n",
            "Epoch 7/100\n",
            "484/484 [==============================] - 13s 26ms/step - loss: 6.0395 - accuracy: 0.0393\n",
            "Epoch 8/100\n",
            "484/484 [==============================] - 13s 26ms/step - loss: 5.9616 - accuracy: 0.0445\n",
            "Epoch 9/100\n",
            "484/484 [==============================] - 13s 27ms/step - loss: 5.8667 - accuracy: 0.0497\n",
            "Epoch 10/100\n",
            "484/484 [==============================] - 13s 27ms/step - loss: 5.7708 - accuracy: 0.0552\n",
            "Epoch 11/100\n",
            "484/484 [==============================] - 14s 28ms/step - loss: 5.6701 - accuracy: 0.0615\n",
            "Epoch 12/100\n",
            "484/484 [==============================] - 14s 30ms/step - loss: 5.5737 - accuracy: 0.0655\n",
            "Epoch 13/100\n",
            "484/484 [==============================] - 15s 32ms/step - loss: 5.4786 - accuracy: 0.0699\n",
            "Epoch 14/100\n",
            "484/484 [==============================] - 14s 29ms/step - loss: 5.3854 - accuracy: 0.0756\n",
            "Epoch 15/100\n",
            "484/484 [==============================] - 13s 27ms/step - loss: 5.2878 - accuracy: 0.0812\n",
            "Epoch 16/100\n",
            "484/484 [==============================] - 13s 26ms/step - loss: 5.1922 - accuracy: 0.0876\n",
            "Epoch 17/100\n",
            "484/484 [==============================] - 13s 26ms/step - loss: 5.0988 - accuracy: 0.0924\n",
            "Epoch 18/100\n",
            "484/484 [==============================] - 13s 26ms/step - loss: 5.0011 - accuracy: 0.0993\n",
            "Epoch 19/100\n",
            "484/484 [==============================] - 13s 26ms/step - loss: 4.9029 - accuracy: 0.1079\n",
            "Epoch 20/100\n",
            "484/484 [==============================] - 13s 27ms/step - loss: 4.8096 - accuracy: 0.1132\n",
            "Epoch 21/100\n",
            "484/484 [==============================] - 13s 27ms/step - loss: 4.7230 - accuracy: 0.1150\n",
            "Epoch 22/100\n",
            "484/484 [==============================] - 14s 28ms/step - loss: 4.6252 - accuracy: 0.1246\n",
            "Epoch 23/100\n",
            "484/484 [==============================] - 13s 26ms/step - loss: 4.5299 - accuracy: 0.1367\n",
            "Epoch 24/100\n",
            "484/484 [==============================] - 13s 26ms/step - loss: 4.4367 - accuracy: 0.1436\n",
            "Epoch 25/100\n",
            "484/484 [==============================] - 13s 27ms/step - loss: 4.3516 - accuracy: 0.1530\n",
            "Epoch 26/100\n",
            "484/484 [==============================] - 13s 26ms/step - loss: 4.2518 - accuracy: 0.1667\n",
            "Epoch 27/100\n",
            "484/484 [==============================] - 13s 26ms/step - loss: 4.1607 - accuracy: 0.1791\n",
            "Epoch 28/100\n",
            "484/484 [==============================] - 13s 26ms/step - loss: 4.0646 - accuracy: 0.1949\n",
            "Epoch 29/100\n",
            "484/484 [==============================] - 13s 26ms/step - loss: 3.9795 - accuracy: 0.2049\n",
            "Epoch 30/100\n",
            "484/484 [==============================] - 13s 26ms/step - loss: 3.8843 - accuracy: 0.2227\n",
            "Epoch 31/100\n",
            "484/484 [==============================] - 13s 26ms/step - loss: 3.7958 - accuracy: 0.2362\n",
            "Epoch 32/100\n",
            "484/484 [==============================] - 13s 26ms/step - loss: 3.7082 - accuracy: 0.2535\n",
            "Epoch 33/100\n",
            "484/484 [==============================] - 13s 26ms/step - loss: 3.6296 - accuracy: 0.2687\n",
            "Epoch 34/100\n",
            "484/484 [==============================] - 13s 26ms/step - loss: 3.5457 - accuracy: 0.2939\n",
            "Epoch 35/100\n",
            "484/484 [==============================] - 13s 26ms/step - loss: 3.4620 - accuracy: 0.3069\n",
            "Epoch 36/100\n",
            "484/484 [==============================] - 13s 26ms/step - loss: 3.3901 - accuracy: 0.3234\n",
            "Epoch 37/100\n",
            "484/484 [==============================] - 13s 26ms/step - loss: 3.3107 - accuracy: 0.3391\n",
            "Epoch 38/100\n",
            "484/484 [==============================] - 13s 26ms/step - loss: 3.2390 - accuracy: 0.3513\n",
            "Epoch 39/100\n",
            "484/484 [==============================] - 13s 26ms/step - loss: 3.1694 - accuracy: 0.3699\n",
            "Epoch 40/100\n",
            "484/484 [==============================] - 13s 26ms/step - loss: 3.0928 - accuracy: 0.3890\n",
            "Epoch 41/100\n",
            "484/484 [==============================] - 13s 26ms/step - loss: 3.0273 - accuracy: 0.3985\n",
            "Epoch 42/100\n",
            "484/484 [==============================] - 13s 26ms/step - loss: 2.9571 - accuracy: 0.4128\n",
            "Epoch 43/100\n",
            "484/484 [==============================] - 13s 26ms/step - loss: 2.8945 - accuracy: 0.4340\n",
            "Epoch 44/100\n",
            "484/484 [==============================] - 13s 26ms/step - loss: 2.8348 - accuracy: 0.4441\n",
            "Epoch 45/100\n",
            "484/484 [==============================] - 13s 26ms/step - loss: 2.7704 - accuracy: 0.4567\n",
            "Epoch 46/100\n",
            "484/484 [==============================] - 13s 26ms/step - loss: 2.7282 - accuracy: 0.4698\n",
            "Epoch 47/100\n",
            "484/484 [==============================] - 13s 26ms/step - loss: 2.6653 - accuracy: 0.4801\n",
            "Epoch 48/100\n",
            "484/484 [==============================] - 13s 26ms/step - loss: 2.6080 - accuracy: 0.4923\n",
            "Epoch 49/100\n",
            "484/484 [==============================] - 13s 26ms/step - loss: 2.5583 - accuracy: 0.5040\n",
            "Epoch 50/100\n",
            "484/484 [==============================] - 13s 26ms/step - loss: 2.5109 - accuracy: 0.5159\n",
            "Epoch 51/100\n",
            "484/484 [==============================] - 13s 26ms/step - loss: 2.4501 - accuracy: 0.5329\n",
            "Epoch 52/100\n",
            "484/484 [==============================] - 13s 26ms/step - loss: 2.4012 - accuracy: 0.5440\n",
            "Epoch 53/100\n",
            "484/484 [==============================] - 13s 26ms/step - loss: 2.3602 - accuracy: 0.5525\n",
            "Epoch 54/100\n",
            "484/484 [==============================] - 13s 26ms/step - loss: 2.3228 - accuracy: 0.5574\n",
            "Epoch 55/100\n",
            "484/484 [==============================] - 13s 26ms/step - loss: 2.2778 - accuracy: 0.5682\n",
            "Epoch 56/100\n",
            "484/484 [==============================] - 13s 26ms/step - loss: 2.2412 - accuracy: 0.5797\n",
            "Epoch 57/100\n",
            "484/484 [==============================] - 13s 26ms/step - loss: 2.1950 - accuracy: 0.5850\n",
            "Epoch 58/100\n",
            "484/484 [==============================] - 13s 26ms/step - loss: 2.1505 - accuracy: 0.6003\n",
            "Epoch 59/100\n",
            "484/484 [==============================] - 13s 27ms/step - loss: 2.1034 - accuracy: 0.6085\n",
            "Epoch 60/100\n",
            "484/484 [==============================] - 13s 26ms/step - loss: 2.0674 - accuracy: 0.6174\n",
            "Epoch 61/100\n",
            "484/484 [==============================] - 13s 26ms/step - loss: 2.0391 - accuracy: 0.6226\n",
            "Epoch 62/100\n",
            "484/484 [==============================] - 13s 26ms/step - loss: 2.0166 - accuracy: 0.6307\n",
            "Epoch 63/100\n",
            "484/484 [==============================] - 13s 26ms/step - loss: 1.9653 - accuracy: 0.6422\n",
            "Epoch 64/100\n",
            "484/484 [==============================] - 13s 26ms/step - loss: 1.9369 - accuracy: 0.6453\n",
            "Epoch 65/100\n",
            "484/484 [==============================] - 13s 26ms/step - loss: 1.9101 - accuracy: 0.6506\n",
            "Epoch 66/100\n",
            "484/484 [==============================] - 13s 26ms/step - loss: 1.8890 - accuracy: 0.6577\n",
            "Epoch 67/100\n",
            "484/484 [==============================] - 13s 27ms/step - loss: 1.8434 - accuracy: 0.6658\n",
            "Epoch 68/100\n",
            "484/484 [==============================] - 13s 26ms/step - loss: 1.8112 - accuracy: 0.6751\n",
            "Epoch 69/100\n",
            "484/484 [==============================] - 13s 27ms/step - loss: 1.7814 - accuracy: 0.6811\n",
            "Epoch 70/100\n",
            "484/484 [==============================] - 13s 26ms/step - loss: 1.7606 - accuracy: 0.6837\n",
            "Epoch 71/100\n",
            "484/484 [==============================] - 13s 27ms/step - loss: 1.7426 - accuracy: 0.6872\n",
            "Epoch 72/100\n",
            "484/484 [==============================] - 13s 27ms/step - loss: 1.6971 - accuracy: 0.6972\n",
            "Epoch 73/100\n",
            "484/484 [==============================] - 13s 26ms/step - loss: 1.6857 - accuracy: 0.6999\n",
            "Epoch 74/100\n",
            "484/484 [==============================] - 13s 26ms/step - loss: 1.6578 - accuracy: 0.7061\n",
            "Epoch 75/100\n",
            "484/484 [==============================] - 13s 26ms/step - loss: 1.6478 - accuracy: 0.7101\n",
            "Epoch 76/100\n",
            "484/484 [==============================] - 13s 26ms/step - loss: 1.6181 - accuracy: 0.7153\n",
            "Epoch 77/100\n",
            "484/484 [==============================] - 13s 26ms/step - loss: 1.5964 - accuracy: 0.7198\n",
            "Epoch 78/100\n",
            "484/484 [==============================] - 13s 26ms/step - loss: 1.5752 - accuracy: 0.7261\n",
            "Epoch 79/100\n",
            "484/484 [==============================] - 13s 26ms/step - loss: 1.5554 - accuracy: 0.7272\n",
            "Epoch 80/100\n",
            "484/484 [==============================] - 13s 26ms/step - loss: 1.5438 - accuracy: 0.7308\n",
            "Epoch 81/100\n",
            "484/484 [==============================] - 13s 26ms/step - loss: 1.5137 - accuracy: 0.7375\n",
            "Epoch 82/100\n",
            "484/484 [==============================] - 13s 26ms/step - loss: 1.4996 - accuracy: 0.7372\n",
            "Epoch 83/100\n",
            "484/484 [==============================] - 13s 27ms/step - loss: 1.4764 - accuracy: 0.7424\n",
            "Epoch 84/100\n",
            "484/484 [==============================] - 13s 27ms/step - loss: 1.4479 - accuracy: 0.7512\n",
            "Epoch 85/100\n",
            "484/484 [==============================] - 13s 26ms/step - loss: 1.4345 - accuracy: 0.7513\n",
            "Epoch 86/100\n",
            "484/484 [==============================] - 13s 27ms/step - loss: 1.4230 - accuracy: 0.7515\n",
            "Epoch 87/100\n",
            "484/484 [==============================] - 13s 27ms/step - loss: 1.4152 - accuracy: 0.7554\n",
            "Epoch 88/100\n",
            "484/484 [==============================] - 13s 26ms/step - loss: 1.4067 - accuracy: 0.7541\n",
            "Epoch 89/100\n",
            "484/484 [==============================] - 13s 27ms/step - loss: 1.3804 - accuracy: 0.7640\n",
            "Epoch 90/100\n",
            "484/484 [==============================] - 13s 26ms/step - loss: 1.3598 - accuracy: 0.7670\n",
            "Epoch 91/100\n",
            "484/484 [==============================] - 13s 27ms/step - loss: 1.3442 - accuracy: 0.7667\n",
            "Epoch 92/100\n",
            "484/484 [==============================] - 13s 26ms/step - loss: 1.3246 - accuracy: 0.7734\n",
            "Epoch 93/100\n",
            "484/484 [==============================] - 13s 26ms/step - loss: 1.3363 - accuracy: 0.7681\n",
            "Epoch 94/100\n",
            "484/484 [==============================] - 13s 26ms/step - loss: 1.3185 - accuracy: 0.7749\n",
            "Epoch 95/100\n",
            "484/484 [==============================] - 13s 26ms/step - loss: 1.3085 - accuracy: 0.7740\n",
            "Epoch 96/100\n",
            "484/484 [==============================] - 13s 26ms/step - loss: 1.2971 - accuracy: 0.7743\n",
            "Epoch 97/100\n",
            "484/484 [==============================] - 13s 26ms/step - loss: 1.2752 - accuracy: 0.7784\n",
            "Epoch 98/100\n",
            "484/484 [==============================] - 13s 26ms/step - loss: 1.2648 - accuracy: 0.7795\n",
            "Epoch 99/100\n",
            "484/484 [==============================] - 13s 26ms/step - loss: 1.2437 - accuracy: 0.7877\n",
            "Epoch 100/100\n",
            "484/484 [==============================] - 13s 26ms/step - loss: 1.2349 - accuracy: 0.7881\n"
          ]
        }
      ]
    },
    {
      "cell_type": "code",
      "metadata": {
        "id": "1fXTEO3GJ282",
        "colab": {
          "base_uri": "https://localhost:8080/",
          "height": 545
        },
        "outputId": "9d76247a-d257-491f-d89b-66fb4549c148"
      },
      "source": [
        "import matplotlib.pyplot as plt\n",
        "acc = history.history['accuracy']\n",
        "loss = history.history['loss']\n",
        "\n",
        "epochs = range(len(acc))\n",
        "\n",
        "plt.plot(epochs, acc, 'b', label='Training accuracy') #x,y,색깔, legend취할때 이름\n",
        "plt.title('Training accuracy')\n",
        "\n",
        "plt.figure()\n",
        "\n",
        "plt.plot(epochs, loss, 'b', label='Training Loss')\n",
        "plt.title('Training loss')\n",
        "plt.legend()\n",
        "\n",
        "plt.show()"
      ],
      "execution_count": null,
      "outputs": [
        {
          "output_type": "display_data",
          "data": {
            "image/png": "[encoded data removed]",
            "text/plain": [
              "<Figure size 432x288 with 1 Axes>"
            ]
          },
          "metadata": {
            "needs_background": "light"
          }
        },
        {
          "output_type": "display_data",
          "data": {
            "image/png": "[encoded data removed]",
            "text/plain": [
              "<Figure size 432x288 with 1 Axes>"
            ]
          },
          "metadata": {
            "needs_background": "light"
          }
        }
      ]
    },
    {
      "cell_type": "code",
      "metadata": {
        "id": "6Vc6PHgxa6Hm",
        "colab": {
          "base_uri": "https://localhost:8080/",
          "height": 245
        },
        "outputId": "ad73c0c9-b656-42ef-876e-e55e56fe8cb9"
      },
      "source": [
        "seed_text = \"Help me Obi Wan Kenobi, you're my only hope\"\n",
        "next_words = 100\n",
        "  \n",
        "for _ in range(next_words):\n",
        "\ttoken_list = tokenizer.texts_to_sequences([seed_text])[0]\n",
        "\ttoken_list = pad_sequences([token_list], maxlen=max_sequence_len-1, padding='pre')\n",
        "\tpredicted = model.predict_classes(token_list, verbose=0)\n",
        "\toutput_word = \"\"\n",
        "\tfor word, index in tokenizer.word_index.items():\n",
        "\t\tif index == predicted:\n",
        "\t\t\toutput_word = word\n",
        "\t\t\tbreak\n",
        "\tseed_text += \" \" + output_word\n",
        "print(seed_text)"
      ],
      "execution_count": null,
      "outputs": [
        {
          "output_type": "error",
          "ename": "AttributeError",
          "evalue": "ignored",
          "traceback": [
            "\u001b[0;31m---------------------------------------------------------------------------\u001b[0m",
            "\u001b[0;31mAttributeError\u001b[0m                            Traceback (most recent call last)",
            "\u001b[0;32m<ipython-input-24-622d307fa19a>\u001b[0m in \u001b[0;36m<module>\u001b[0;34m()\u001b[0m\n\u001b[1;32m      5\u001b[0m         \u001b[0mtoken_list\u001b[0m \u001b[0;34m=\u001b[0m \u001b[0mtokenizer\u001b[0m\u001b[0;34m.\u001b[0m\u001b[0mtexts_to_sequences\u001b[0m\u001b[0;34m(\u001b[0m\u001b[0;34m[\u001b[0m\u001b[0mseed_text\u001b[0m\u001b[0;34m]\u001b[0m\u001b[0;34m)\u001b[0m\u001b[0;34m[\u001b[0m\u001b[0;36m0\u001b[0m\u001b[0;34m]\u001b[0m\u001b[0;34m\u001b[0m\u001b[0;34m\u001b[0m\u001b[0m\n\u001b[1;32m      6\u001b[0m         \u001b[0mtoken_list\u001b[0m \u001b[0;34m=\u001b[0m \u001b[0mpad_sequences\u001b[0m\u001b[0;34m(\u001b[0m\u001b[0;34m[\u001b[0m\u001b[0mtoken_list\u001b[0m\u001b[0;34m]\u001b[0m\u001b[0;34m,\u001b[0m \u001b[0mmaxlen\u001b[0m\u001b[0;34m=\u001b[0m\u001b[0mmax_sequence_len\u001b[0m\u001b[0;34m-\u001b[0m\u001b[0;36m1\u001b[0m\u001b[0;34m,\u001b[0m \u001b[0mpadding\u001b[0m\u001b[0;34m=\u001b[0m\u001b[0;34m'pre'\u001b[0m\u001b[0;34m)\u001b[0m\u001b[0;34m\u001b[0m\u001b[0;34m\u001b[0m\u001b[0m\n\u001b[0;32m----> 7\u001b[0;31m         \u001b[0mpredicted\u001b[0m \u001b[0;34m=\u001b[0m \u001b[0mmodel\u001b[0m\u001b[0;34m.\u001b[0m\u001b[0mpredict_classes\u001b[0m\u001b[0;34m(\u001b[0m\u001b[0mtoken_list\u001b[0m\u001b[0;34m,\u001b[0m \u001b[0mverbose\u001b[0m\u001b[0;34m=\u001b[0m\u001b[0;36m0\u001b[0m\u001b[0;34m)\u001b[0m\u001b[0;34m\u001b[0m\u001b[0;34m\u001b[0m\u001b[0m\n\u001b[0m\u001b[1;32m      8\u001b[0m         \u001b[0moutput_word\u001b[0m \u001b[0;34m=\u001b[0m \u001b[0;34m\"\"\u001b[0m\u001b[0;34m\u001b[0m\u001b[0;34m\u001b[0m\u001b[0m\n\u001b[1;32m      9\u001b[0m         \u001b[0;32mfor\u001b[0m \u001b[0mword\u001b[0m\u001b[0;34m,\u001b[0m \u001b[0mindex\u001b[0m \u001b[0;32min\u001b[0m \u001b[0mtokenizer\u001b[0m\u001b[0;34m.\u001b[0m\u001b[0mword_index\u001b[0m\u001b[0;34m.\u001b[0m\u001b[0mitems\u001b[0m\u001b[0;34m(\u001b[0m\u001b[0;34m)\u001b[0m\u001b[0;34m:\u001b[0m\u001b[0;34m\u001b[0m\u001b[0;34m\u001b[0m\u001b[0m\n",
            "\u001b[0;31mAttributeError\u001b[0m: 'Sequential' object has no attribute 'predict_classes'"
          ]
        }
      ]
    },
    {
      "cell_type": "code",
      "source": [
        ""
      ],
      "metadata": {
        "id": "_DOfrRFygqoM"
      },
      "execution_count": null,
      "outputs": []
    }
  ]
}