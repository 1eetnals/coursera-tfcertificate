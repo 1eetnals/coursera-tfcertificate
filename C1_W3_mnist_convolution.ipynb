{
  "nbformat": 4,
  "nbformat_minor": 0,
  "metadata": {
    "colab": {
      "name": "C1_W3_mnist_convolution.ipynb",
      "provenance": [],
      "collapsed_sections": [],
      "include_colab_link": true
    },
    "kernelspec": {
      "name": "python3",
      "display_name": "Python 3"
    },
    "language_info": {
      "name": "python"
    },
    "accelerator": "GPU"
  },
  "cells": [
    {
      "cell_type": "markdown",
      "metadata": {
        "id": "view-in-github",
        "colab_type": "text"
      },
      "source": [
        "<a href=\"https://colab.research.google.com/github/1eetnals/coursera-tfcertificate/blob/main/C1_W3_mnist_convolution.ipynb\" target=\"_parent\"><img src=\"https://colab.research.google.com/assets/colab-badge.svg\" alt=\"Open In Colab\"/></a>"
      ]
    },
    {
      "cell_type": "code",
      "metadata": {
        "id": "zX4Kg8DUTKWO"
      },
      "source": [
        "#@title Licensed under the Apache License, Version 2.0 (the \"License\");\n",
        "# you may not use this file except in compliance with the License.\n",
        "# You may obtain a copy of the License at\n",
        "#\n",
        "# https://www.apache.org/licenses/LICENSE-2.0\n",
        "#\n",
        "# Unless required by applicable law or agreed to in writing, software\n",
        "# distributed under the License is distributed on an \"AS IS\" BASIS,\n",
        "# WITHOUT WARRANTIES OR CONDITIONS OF ANY KIND, either express or implied.\n",
        "# See the License for the specific language governing permissions and\n",
        "# limitations under the License."
      ],
      "execution_count": null,
      "outputs": []
    },
    {
      "cell_type": "markdown",
      "metadata": {
        "id": "iQjHqsmTAVLU"
      },
      "source": [
        "In the videos you looked at how you would improve Fashion MNIST using Convolutions. For your exercise see if you can improve MNIST to 99.8% accuracy or more using only a single convolutional layer and a single MaxPooling 2D. You should stop training once the accuracy goes above this amount. It should happen in less than 20 epochs, so it's ok to hard code the number of epochs for training, but your training must end once it hits the above metric. If it doesn't, then you'll need to redesign your layers.\n",
        "\n",
        "I've started the code for you -- you need to finish it!\n",
        "\n",
        "When 99.8% accuracy has been hit, you should print out the string \"Reached 99.8% accuracy so cancelling training!\"\n",
        "\n",
        "영상에서 convolution을 사용하여 Fashion-MNIST를 어떻게 개선할 것인지 살펴보았다. 연습을 위해 단일 컨볼루션 레이어와 단일 MaxPooling 2D만 사용하여 MNIST를 99.8% 이상의 정확도로 향상시킬 수 있는지 확인하라. 정확도가 이를 넘으면 훈련을 중단해야 한다. 이 작업은 20번 이내에 수행되어야 하므로 교육을 위해 epoch 수를 하드 코딩해도 괜찮지만 위의? 최고치의? 메트릭에 도달하면 교육이 종료되어야 한다. 그렇지 않다면 레이어를 다시 디자인해야 합니다.\n",
        "\n",
        "99.8%의 정확도를 달성하면 \"Reached 99.8% accuracy so cancelling training!\"라는 문자열을 출력해야 한다.\n",
        "\n",
        "**Things to Note:**\n",
        "1. When coding the `class myCallback`, Python 3 will run into an error\n",
        "```python\n",
        "TypeError: '>' not supported between instances of 'NoneType' and 'float'\n",
        "```\n",
        "when using the code\n",
        "```python\n",
        "if(logs.get('accuracy')>0.99):\n",
        "```\n",
        "\n",
        "For Python 3, use the following equivalent code line\n",
        "\n",
        "```python\n",
        "if logs.get('accuracy') is not None and logs.get('accuracy') > 0.99:\n",
        "```\n",
        "\n",
        "2. You can run the notebook using TensorFlow 2.5.0"
      ]
    },
    {
      "cell_type": "code",
      "metadata": {
        "id": "i3xcYZUPuwYp"
      },
      "source": [
        "#!pip install tensorflow==2.5.0"
      ],
      "execution_count": null,
      "outputs": []
    },
    {
      "cell_type": "code",
      "metadata": {
        "id": "ZpztRwBouwYp"
      },
      "source": [
        "import tensorflow as tf\n",
        "\n",
        "print(tf.__version__)"
      ],
      "execution_count": null,
      "outputs": []
    },
    {
      "cell_type": "code",
      "metadata": {
        "id": "sfQRyaJWAIdg"
      },
      "source": [
        "# GRADED FUNCTION: train_mnist_conv\n",
        "def train_mnist_conv():\n",
        "    # Please write your code only where you are indicated.\n",
        "    # please do not remove model fitting inline comments.\n",
        "\n",
        "    # YOUR CODE STARTS HERE\n",
        "    # epoch가 종료될 때마다 정확도를 확인해서 정확도가 99.8%가 넘으면 Reached 99.8% accuracy so cancelling training! 라고 출력하고 종료시키는 코드.\n",
        "    class myCallback(tf.keras.callbacks.Callback):\n",
        "        def on_epoch_end(self, epoch, logs={}):\n",
        "            if logs.get('accuracy') is not None and logs.get('accuracy') > 0.998:\n",
        "                print(\"\\nReached 99.8% accuracy so cancelling training!\")\n",
        "                self.model.stop_training = True\n",
        "    \n",
        "    # YOUR CODE ENDS HERE\n",
        "\n",
        "    mnist = tf.keras.datasets.mnist\n",
        "    (training_images, training_labels), (test_images, test_labels) = mnist.load_data()\n",
        "    \n",
        "    # YOUR CODE STARTS HERE\n",
        "    \n",
        "    callbacks = myCallback()\n",
        "    \n",
        "    # Step 1. Data 준비\n",
        "    # 첫번째 convolution은 모든 것은 포함한 single tensor를 예상하고 있기 때문에 training data reshape\n",
        "    training_images=training_images.reshape(60000, 28, 28, 1)   # 60000x28x28x1의 4D list\n",
        "    training_images=training_images / 255.0   # 값을 0과 1 사이로 만드는 과정(정규화, normalizing)\n",
        "    # test data reshape\n",
        "    test_images = test_images.reshape(10000, 28, 28, 1)   # 10000x28x28x1의 4D list\n",
        "    test_images=test_images/255.0   # 값을 0과 1 사이로 만드는 과정(정규화, normalizing)\n",
        "\n",
        "    # YOUR CODE ENDS HERE\n",
        "\n",
        "    # Step 2. Model 정의\n",
        "    model = tf.keras.models.Sequential([\n",
        "      # input layer대신 Convolution 추가 / 생성하는 convolution의 수 = 32, convolution size = 3x3\n",
        "      tf.keras.layers.Conv2D(32, (3,3), activation='relu', input_shape=(28, 28, 1)), # YOUR CODE HERE,\n",
        "      # MaxPooling을 2x2로 설정. image의 size는 1/4이 되고 가장 큰 값을 취함. (model.summary()을 사용해서 network의 size와 shape을 볼 수 있음)\n",
        "      tf.keras.layers.MaxPooling2D(2, 2), # YOUR CODE HERE,\n",
        "      # keras.layers.Flatten은 2차원 이미지를 1차원 벡터로 만들어주는 역할\n",
        "      tf.keras.layers.Flatten(), # YOUR CODE HERE,\n",
        "      # keras.layers Dense는 가장 기본적인 신경망 구조인 fully connected layer을 나타냄\n",
        "      tf.keras.layers.Dense(128, activation='relu'), # YOUR CODE HERE,\n",
        "      tf.keras.layers.Dense(10, activation='softmax') # YOUR CODE HERE,\n",
        "    ])\n",
        "\n",
        "    model.compile(optimizer='adam', loss='sparse_categorical_crossentropy', metrics=['accuracy'])\n",
        "    \n",
        "    # model fitting\n",
        "    history = model.fit(training_images, training_labels, epochs=10, callbacks=[callbacks] # YOUR CODE HERE,\n",
        "    )\n",
        "    # model fitting\n",
        "    \n",
        "    return history.epoch, history.history['accuracy'][-1]"
      ],
      "execution_count": null,
      "outputs": []
    },
    {
      "cell_type": "code",
      "metadata": {
        "id": "9tbNygBluwYq"
      },
      "source": [
        "_, _ = train_mnist_conv()"
      ],
      "execution_count": null,
      "outputs": []
    },
    {
      "cell_type": "code",
      "metadata": {
        "id": "eESdU4mmuwYr"
      },
      "source": [
        ""
      ],
      "execution_count": null,
      "outputs": []
    }
  ]
}