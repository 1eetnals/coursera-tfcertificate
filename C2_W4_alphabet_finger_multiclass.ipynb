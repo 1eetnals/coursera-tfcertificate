{
  "nbformat": 4,
  "nbformat_minor": 0,
  "metadata": {
    "accelerator": "GPU",
    "colab": {
      "name": "C2_W4_alphabet_finger_multiclass.ipynb",
      "provenance": [],
      "collapsed_sections": [],
      "include_colab_link": true
    },
    "kernelspec": {
      "display_name": "Python 3",
      "language": "python",
      "name": "python3"
    },
    "language_info": {
      "codemirror_mode": {
        "name": "ipython",
        "version": 3
      },
      "file_extension": ".py",
      "mimetype": "text/x-python",
      "name": "python",
      "nbconvert_exporter": "python",
      "pygments_lexer": "ipython3",
      "version": "3.8.5"
    }
  },
  "cells": [
    {
      "cell_type": "markdown",
      "metadata": {
        "id": "view-in-github",
        "colab_type": "text"
      },
      "source": [
        "<a href=\"https://colab.research.google.com/github/1eetnals/coursera-tfcertificate/blob/main/C2_W4_alphabet_finger_multiclass.ipynb\" target=\"_parent\"><img src=\"https://colab.research.google.com/assets/colab-badge.svg\" alt=\"Open In Colab\"/></a>"
      ]
    },
    {
      "cell_type": "code",
      "metadata": {
        "id": "zX4Kg8DUTKWO"
      },
      "source": [
        "#@title Licensed under the Apache License, Version 2.0 (the \"License\");\n",
        "# you may not use this file except in compliance with the License.\n",
        "# You may obtain a copy of the License at\n",
        "#\n",
        "# https://www.apache.org/licenses/LICENSE-2.0\n",
        "#\n",
        "# Unless required by applicable law or agreed to in writing, software\n",
        "# distributed under the License is distributed on an \"AS IS\" BASIS,\n",
        "# WITHOUT WARRANTIES OR CONDITIONS OF ANY KIND, either express or implied.\n",
        "# See the License for the specific language governing permissions and\n",
        "# limitations under the License."
      ],
      "execution_count": null,
      "outputs": []
    },
    {
      "cell_type": "markdown",
      "source": [
        ""
      ],
      "metadata": {
        "id": "zwyDlCJUm-zW"
      }
    },
    {
      "cell_type": "markdown",
      "source": [
        "###코드설명 -> 자세히 되어있음(단계별로)\n",
        "https://skillmemory.tistory.com/entry/CONVOLUTIONAL-NEURAL-NETWORKS-IN-TENSORFLOW-Multi-class-classifier?category=781615\n"
      ],
      "metadata": {
        "id": "xca2ZqOmdn-v"
      }
    },
    {
      "cell_type": "markdown",
      "source": [
        "###케라스 설명\n",
        "https://tykimos.github.io/2017/01/27/Keras_Talk/\n",
        "\n",
        "- 모델 학습과정 설정 : compile() / \n",
        "학습하기 전에 학습에 대한 설정수행, 손실함수 및 최적화 방법을 정의\n",
        "- 모델 학습시키기 : fit() / \n",
        "훈련셋을 이용해 구성한 모델로 학습시킴\n",
        "- 모델 평가하기 : evaluate() / \n",
        "준비된 테스트셋으로 학습한 모델을 평가\n",
        "- 모델 사용하기 : predict() / \n",
        "임의의 입력으로 모델의 출력을 얻음\n"
      ],
      "metadata": {
        "id": "tZASIIgIk4o-"
      }
    },
    {
      "cell_type": "markdown",
      "metadata": {
        "id": "Zs0rvDcgHqnV"
      },
      "source": [
        "**IMPORTANT NOTE:** This notebook is designed to run as a Colab. Click the button on top that says, `Open in Colab`, to run this notebook as a Colab. Running the notebook on your local machine might result in some of the code blocks throwing errors."
      ]
    },
    {
      "cell_type": "code",
      "metadata": {
        "id": "wYtuKeK0dImp"
      },
      "source": [
        "import csv\n",
        "import numpy as np\n",
        "import tensorflow as tf\n",
        "from tensorflow.keras.preprocessing.image import ImageDataGenerator\n",
        "from google.colab import files"
      ],
      "execution_count": null,
      "outputs": []
    },
    {
      "cell_type": "code",
      "metadata": {
        "id": "4kxw-_rmcnVu",
        "colab": {
          "base_uri": "https://localhost:8080/"
        },
        "outputId": "a9d8f8c6-3a44-41b2-fc60-9cbef6c901d4"
      },
      "source": [
        "#알파벳을 손가락 모양으로 표현한 이미지 dataset인 sign MNIST dataset을 다운로드\n",
        "# sign_mnist_train.csv\n",
        "!gdown --id 1z0DkA9BytlLxO1C0BAWzknLyQmZAp0HR\n",
        "# sign_mnist_test.csv\n",
        "!gdown --id 1z1BIj4qmri59GWBG4ivMNFtpZ4AXIbzg\n",
        "\n",
        "def get_data(filename):   #image dataset을 image set과 label set으로 나누는 함수\n",
        "  # You will need to write code that will read the file passed\n",
        "  # into this function. The first line contains the column headers\n",
        "  # so you should ignore it\n",
        "  # Each successive line contians 785 comma separated values between 0 and 255\n",
        "  # The first value is the label\n",
        "  # The rest are the pixel values for that picture\n",
        "  # The function will return 2 np.array types. One with all the labels\n",
        "  # One with all the images\n",
        "  #\n",
        "  # Tips: \n",
        "  # If you read a full line (as 'row') then row[0] has the label\n",
        "  # and row[1:785] has the 784 pixel values\n",
        "  # Take a look at np.array_split to turn the 784 pixels into 28x28\n",
        "  # You are reading in strings, but need the values to be floats\n",
        "  # Check out np.array().astype for a conversion  \n",
        "    with open(filename) as training_file:\n",
        "        ### START CODE HERE\n",
        "        \n",
        "        csv_reader = csv.reader(training_file, delimiter=',')  #csv파일 읽기, delimiter는 csv파일이 뭘로 나누어져있는지\n",
        "        first_line = True\n",
        "        temp_images = []\n",
        "        temp_labels = []\n",
        "        for row in csv_reader:\n",
        "            if first_line:\n",
        "                # print(\"Ignoring first line\")\n",
        "                first_line = False\n",
        "            else:\n",
        "                temp_labels.append(row[0])\n",
        "                image_data = row[1:785]\n",
        "                image_data_as_array = np.array_split(image_data, 28)\n",
        "                temp_images.append(image_data_as_array)\n",
        "        images = np.array(temp_images).astype('float')\n",
        "        labels = np.array(temp_labels).astype('float')\n",
        "\n",
        "        ### END CODE HERE\n",
        "    return images, labels\n",
        "\n",
        "\n",
        "training_images, training_labels = get_data('./sign_mnist_train.csv')\n",
        "testing_images, testing_labels = get_data('./sign_mnist_test.csv')\n",
        "\n",
        "print(training_images.shape)\n",
        "print(training_labels.shape)\n",
        "print(testing_images.shape)\n",
        "print(testing_labels.shape)\n",
        "\n",
        "# Their output should be:\n",
        "# (27455, 28, 28)\n",
        "# (27455,)\n",
        "# (7172, 28, 28)\n",
        "# (7172,)"
      ],
      "execution_count": null,
      "outputs": [
        {
          "output_type": "stream",
          "name": "stdout",
          "text": [
            "Downloading...\n",
            "From: https://drive.google.com/uc?id=1z0DkA9BytlLxO1C0BAWzknLyQmZAp0HR\n",
            "To: /content/sign_mnist_train.csv\n",
            "100% 83.3M/83.3M [00:00<00:00, 86.2MB/s]\n",
            "Downloading...\n",
            "From: https://drive.google.com/uc?id=1z1BIj4qmri59GWBG4ivMNFtpZ4AXIbzg\n",
            "To: /content/sign_mnist_test.csv\n",
            "100% 21.8M/21.8M [00:00<00:00, 66.2MB/s]\n",
            "(27455, 28, 28)\n",
            "(27455,)\n",
            "(7172, 28, 28)\n",
            "(7172,)\n"
          ]
        }
      ]
    },
    {
      "cell_type": "code",
      "metadata": {
        "id": "awoqRpyZdQkD",
        "colab": {
          "base_uri": "https://localhost:8080/"
        },
        "outputId": "4fe83188-c4a1-44fc-a9c7-43df9ed44b72"
      },
      "source": [
        "# In this section you will have to add another dimension to the data\n",
        "# So, for example, if your array is (10000, 28, 28)\n",
        "# You will need to make it (10000, 28, 28, 1)\n",
        "# Hint: np.expand_dims\n",
        "\n",
        "training_images = np.expand_dims(training_images, axis=3) ### YOUR CODE HERE  #이미지 데이터에서 차원을 하나 추가( 하나의 이미지는 2차원 + 색깔차원 필요함)\n",
        "testing_images = np.expand_dims(testing_images, axis=3) ### YOUR CODE HERE\n",
        "\n",
        "train_datagen = ImageDataGenerator(  #이미지 변환하여 training set의 수를 증가시킴\n",
        "    ### YOUR CODE HERE\n",
        "    rescale=1. / 255,   #밝기를 1/255로 정규화\n",
        "    rotation_range=40,\n",
        "    width_shift_range=0.2,\n",
        "    height_shift_range=0.2,\n",
        "    shear_range=0.2,\n",
        "    zoom_range=0.2,\n",
        "    horizontal_flip=True,  \n",
        "    fill_mode='nearest'\n",
        "    )\n",
        "\n",
        "\n",
        "validation_datagen = ImageDataGenerator(   #validation set은 rescale 변환만 해주기 \n",
        "    ### YOUR CODE HERE\n",
        "    rescale=1. / 255\n",
        "    )\n",
        "\n",
        "# Keep These\n",
        "print(training_images.shape)\n",
        "print(testing_images.shape)\n",
        "    \n",
        "# Their output should be:\n",
        "# (27455, 28, 28, 1)\n",
        "# (7172, 28, 28, 1)"
      ],
      "execution_count": null,
      "outputs": [
        {
          "output_type": "stream",
          "name": "stdout",
          "text": [
            "(27455, 28, 28, 1)\n",
            "(7172, 28, 28, 1)\n"
          ]
        }
      ]
    },
    {
      "cell_type": "code",
      "metadata": {
        "id": "Rmb7S32cgRqS",
        "colab": {
          "base_uri": "https://localhost:8080/"
        },
        "outputId": "98e7aabc-9c2e-4143-87db-1c282eb15eab"
      },
      "source": [
        "# Define the model\n",
        "# Use no more than 2 Conv2D and 2 MaxPooling2D\n",
        "model = tf.keras.models.Sequential([\n",
        "    ### START CODE HERE                                \n",
        "    tf.keras.layers.Conv2D(64, (3, 3), activation='relu', input_shape=(28, 28, 1)),\n",
        "    tf.keras.layers.MaxPooling2D(2, 2),\n",
        "\n",
        "    tf.keras.layers.Conv2D(64, (3, 3), activation='relu'),\n",
        "    tf.keras.layers.MaxPooling2D(2, 2),\n",
        "\n",
        "    tf.keras.layers.Flatten(),\n",
        "    tf.keras.layers.Dense(128, activation=tf.nn.relu),\n",
        "    tf.keras.layers.Dense(26, activation=tf.nn.softmax)]\n",
        "    ### END CODE HERE\n",
        "    )\n",
        "\n",
        "model.compile(optimizer = tf.optimizers.Adam(), ### YOUR CODE HERE)\n",
        "              loss = 'sparse_categorical_crossentropy',\n",
        "              metrics=['accuracy'])\n",
        "\n",
        "#flow를 이용해 설정한 batch size만큼씩, 계속 데이터 가져와서 모델 학습되도록 함.\n",
        "history = model.fit(train_datagen.flow(training_images, training_labels, batch_size=32), ### YOUR CODE HERE)\n",
        "                              steps_per_epoch=len(training_images) / 32,\n",
        "                              epochs=15,\n",
        "                              validation_data=validation_datagen.flow(testing_images, testing_labels, batch_size=32),\n",
        "                              validation_steps=len(testing_images) / 32)\n",
        "\n",
        "model.evaluate(testing_images, testing_labels)\n",
        "\n",
        "# The output from model.evaluate should be close to:\n",
        "# [6.92426086682151, 0.56609035]\n"
      ],
      "execution_count": null,
      "outputs": [
        {
          "output_type": "stream",
          "name": "stdout",
          "text": [
            "Epoch 1/15\n",
            "857/857 [==============================] - 28s 15ms/step - loss: 2.7565 - accuracy: 0.1657 - val_loss: 1.7811 - val_accuracy: 0.4228\n",
            "Epoch 2/15\n",
            "857/857 [==============================] - 13s 16ms/step - loss: 2.0255 - accuracy: 0.3588 - val_loss: 1.3212 - val_accuracy: 0.5201\n",
            "Epoch 3/15\n",
            "857/857 [==============================] - 12s 14ms/step - loss: 1.6896 - accuracy: 0.4583 - val_loss: 1.0722 - val_accuracy: 0.5913\n",
            "Epoch 4/15\n",
            "857/857 [==============================] - 13s 15ms/step - loss: 1.4461 - accuracy: 0.5295 - val_loss: 1.0387 - val_accuracy: 0.6418\n",
            "Epoch 5/15\n",
            "857/857 [==============================] - 14s 16ms/step - loss: 1.2938 - accuracy: 0.5775 - val_loss: 0.8573 - val_accuracy: 0.6927\n",
            "Epoch 6/15\n",
            "857/857 [==============================] - 16s 19ms/step - loss: 1.1746 - accuracy: 0.6152 - val_loss: 0.7801 - val_accuracy: 0.7175\n",
            "Epoch 7/15\n",
            "857/857 [==============================] - 13s 15ms/step - loss: 1.0685 - accuracy: 0.6449 - val_loss: 0.6188 - val_accuracy: 0.7896\n",
            "Epoch 8/15\n",
            "857/857 [==============================] - 12s 15ms/step - loss: 0.9880 - accuracy: 0.6704 - val_loss: 0.6621 - val_accuracy: 0.7653\n",
            "Epoch 9/15\n",
            "857/857 [==============================] - 13s 15ms/step - loss: 0.9184 - accuracy: 0.6946 - val_loss: 0.4980 - val_accuracy: 0.8261\n",
            "Epoch 10/15\n",
            "857/857 [==============================] - 12s 14ms/step - loss: 0.8720 - accuracy: 0.7108 - val_loss: 0.5141 - val_accuracy: 0.8144\n",
            "Epoch 11/15\n",
            "857/857 [==============================] - 12s 14ms/step - loss: 0.8162 - accuracy: 0.7266 - val_loss: 0.4054 - val_accuracy: 0.8430\n",
            "Epoch 12/15\n",
            "857/857 [==============================] - 12s 14ms/step - loss: 0.7760 - accuracy: 0.7395 - val_loss: 0.4290 - val_accuracy: 0.8508\n",
            "Epoch 13/15\n",
            "857/857 [==============================] - 12s 14ms/step - loss: 0.7379 - accuracy: 0.7533 - val_loss: 0.4011 - val_accuracy: 0.8599\n",
            "Epoch 14/15\n",
            "857/857 [==============================] - 12s 14ms/step - loss: 0.7094 - accuracy: 0.7641 - val_loss: 0.3536 - val_accuracy: 0.8694\n",
            "Epoch 15/15\n",
            "857/857 [==============================] - 11s 13ms/step - loss: 0.6819 - accuracy: 0.7724 - val_loss: 0.3555 - val_accuracy: 0.8844\n",
            "225/225 [==============================] - 1s 3ms/step - loss: 182.3108 - accuracy: 0.6616\n"
          ]
        },
        {
          "output_type": "execute_result",
          "data": {
            "text/plain": [
              "[182.3108367919922, 0.661600649356842]"
            ]
          },
          "metadata": {},
          "execution_count": 4
        }
      ]
    },
    {
      "cell_type": "code",
      "metadata": {
        "id": "_Q3Zpr46dsij",
        "colab": {
          "base_uri": "https://localhost:8080/",
          "height": 545
        },
        "outputId": "cf737a0f-563f-4747-898a-9f4babd6c1bc"
      },
      "source": [
        "# Plot the chart for accuracy and loss on both training and validation\n",
        "\n",
        "import matplotlib.pyplot as plt\n",
        "acc = history.history['accuracy'] ### YOUR CODE HERE\n",
        "val_acc = history.history['val_accuracy'] ### YOUR CODE HERE\n",
        "loss = history.history['loss'] ### YOUR CODE HERE\n",
        "val_loss = history.history['val_loss'] ### YOUR CODE HERE\n",
        "\n",
        "epochs = range(len(acc))\n",
        "\n",
        "plt.plot(epochs, acc, 'r', label='Training accuracy')\n",
        "plt.plot(epochs, val_acc, 'b', label='Validation accuracy')\n",
        "plt.title('Training and validation accuracy')\n",
        "plt.legend()  #legend : 그래프가 뭔지 표시해주는것임\n",
        "plt.figure()\n",
        "\n",
        "plt.plot(epochs, loss, 'r', label='Training Loss')\n",
        "plt.plot(epochs, val_loss, 'b', label='Validation Loss')\n",
        "plt.title('Training and validation loss')\n",
        "plt.legend()\n",
        "\n",
        "plt.show()"
      ],
      "execution_count": null,
      "outputs": [
        {
          "output_type": "display_data",
          "data": {
            "image/png": "[encoded data removed]",
            "text/plain": [
              "<Figure size 432x288 with 1 Axes>"
            ]
          },
          "metadata": {
            "needs_background": "light"
          }
        },
        {
          "output_type": "display_data",
          "data": {
            "image/png": "[encoded data removed]",
            "text/plain": [
              "<Figure size 432x288 with 1 Axes>"
            ]
          },
          "metadata": {
            "needs_background": "light"
          }
        }
      ]
    },
    {
      "cell_type": "code",
      "source": [
        ""
      ],
      "metadata": {
        "id": "x7gbRK1QhJGe"
      },
      "execution_count": null,
      "outputs": []
    }
  ]
}