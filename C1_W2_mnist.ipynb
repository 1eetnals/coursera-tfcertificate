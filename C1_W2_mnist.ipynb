{
  "nbformat": 4,
  "nbformat_minor": 0,
  "metadata": {
    "colab": {
      "name": "C1_W2_mnist.ipynb",
      "provenance": [],
      "collapsed_sections": [],
      "include_colab_link": true
    },
    "kernelspec": {
      "name": "python3",
      "display_name": "Python 3"
    },
    "language_info": {
      "name": "python"
    },
    "accelerator": "GPU"
  },
  "cells": [
    {
      "cell_type": "markdown",
      "metadata": {
        "id": "view-in-github",
        "colab_type": "text"
      },
      "source": [
        "<a href=\"https://colab.research.google.com/github/1eetnals/coursera-tfcertificate/blob/main/C1_W2_mnist.ipynb\" target=\"_parent\"><img src=\"https://colab.research.google.com/assets/colab-badge.svg\" alt=\"Open In Colab\"/></a>"
      ]
    },
    {
      "cell_type": "code",
      "metadata": {
        "id": "zX4Kg8DUTKWO"
      },
      "source": [
        "#@title Licensed under the Apache License, Version 2.0 (the \"License\");\n",
        "# you may not use this file except in compliance with the License.\n",
        "# You may obtain a copy of the License at\n",
        "#\n",
        "# https://www.apache.org/licenses/LICENSE-2.0\n",
        "#\n",
        "# Unless required by applicable law or agreed to in writing, software\n",
        "# distributed under the License is distributed on an \"AS IS\" BASIS,\n",
        "# WITHOUT WARRANTIES OR CONDITIONS OF ANY KIND, either express or implied.\n",
        "# See the License for the specific language governing permissions and\n",
        "# limitations under the License."
      ],
      "execution_count": null,
      "outputs": []
    },
    {
      "cell_type": "markdown",
      "metadata": {
        "id": "_2s0EJ5Fy4u2"
      },
      "source": [
        "In the course you learned how to do classification using Fashion MNIST, a data set containing items of clothing. There's another, similar dataset called MNIST which has items of handwriting -- the digits 0 through 9.\n",
        "\n",
        "Write an MNIST classifier that trains to 99% accuracy or above, and does it without a fixed number of epochs -- i.e. you should stop training once you reach that level of accuracy.\n",
        "\n",
        "Some notes:\n",
        "1. It should succeed in less than 10 epochs, so it is okay to change epochs to 10, but nothing larger\n",
        "2. When it reaches 99% or greater it should print out the string \"Reached 99% accuracy so cancelling training!\"\n",
        "3. If you add any additional variables, make sure you use the same names as the ones used in the class\n",
        "\n",
        "I've started the code for you below -- how would you finish it? \n",
        "\n",
        "**Things to Note:**\n",
        "1. When coding the `class myCallback`, Python 3 will run into an error\n",
        "```python\n",
        "TypeError: '>' not supported between instances of 'NoneType' and 'float'\n",
        "```\n",
        "when using the code\n",
        "```python\n",
        "if(logs.get('accuracy')>0.99):\n",
        "```\n",
        "\n",
        "For Python 3, use the following equivalent code line\n",
        "\n",
        "```python\n",
        "if logs.get('accuracy') is not None and logs.get('accuracy') > 0.99:\n",
        "```\n",
        "\n",
        "2. You can run the notebook using TensorFlow 2.5.0\n",
        "\n",
        "\n",
        "\n",
        "이번 코스에서는 의류 아이템을 포함하는 data set인 Fashion-MNIST를 사용하여 분류하는 방법을 배웠다. 여기에는 숫자 0부터 9까지를 손으로 쓴 아이템인 MNIST라는 또 다른 비슷한 dataset이 있다.\n",
        "\n",
        "99% 이상의 정확도로 훈련하고 정해진 횟수 없이 수행하는 MNIST classifier을 작성한다. 즉, 해당 정확도 수준에 도달하면 훈련을 중단해야 한다.\n",
        "\n",
        "참고 사항:\n",
        "\n",
        "1. 10번 미만에 성공해야 하니 10번으로 바꿔도 괜찮지만 더 큰 것은 없다.\n",
        "2. 99% 이상이 되면 \"Reached 99% accuracy so cancelling training!\"라고 출력해야 한다.\n",
        "3. 변수를 추가할 경우 class에 사용된 것과 동일한 이름을 사용해야 한다.\n",
        "\n",
        "아래에 코드를 시작했는데 어떻게 끝내시겠습니까?\n",
        "\n",
        "참고할 사항:\n",
        "1. 'class myCallback'을 코딩할 때 Python 3에 오류가 발생한다.\n",
        "```python\n",
        "TypeError: '>' not supported between instances of 'NoneType' and 'float'\n",
        "```\n",
        "이 코드를 사용할 때\n",
        "```python\n",
        "if(logs.get('accuracy')>0.99):\n",
        "```\n",
        "\n",
        "Python 3의 경우, 다음과 같은 코드를 사용하라\n",
        "\n",
        "```python\n",
        "if logs.get('accuracy') is not None and logs.get('accuracy') > 0.99:\n",
        "```\n",
        "\n",
        "2. TensorFlow 2.5.0을 사용하여 노트북을 실행할 수 있다."
      ]
    },
    {
      "cell_type": "code",
      "metadata": {
        "id": "bPRNy6B-y4u3"
      },
      "source": [
        "#!pip install tensorflow==2.5.0   #pip install로 tensorflow 2.5.0 버전 설치"
      ],
      "execution_count": null,
      "outputs": []
    },
    {
      "cell_type": "code",
      "metadata": {
        "id": "djVOgMHty4u3"
      },
      "source": [
        "import tensorflow as tf\n",
        "\n",
        "print(tf.__version__)"
      ],
      "execution_count": null,
      "outputs": []
    },
    {
      "cell_type": "code",
      "metadata": {
        "id": "rEHcB3kqyHZ6"
      },
      "source": [
        "# GRADED FUNCTION: train_mnist\n",
        "def train_mnist():\n",
        "    # Please write your code only where you are indicated.\n",
        "    # please do not remove # model fitting inline comments.\n",
        "\n",
        "    # YOUR CODE SHOULD START HERE\n",
        "\n",
        "    # epoch가 종료될 때마다 정확도를 확인해서 정확도가 99%가 넘으면 Reached 99% accuracy so cancelling training! 라고 출력하고 종료시키는 코드.\n",
        "    class myCallback(tf.keras.callbacks.Callback):    # myCallback class는 keras의 callbacks의 callback class를 상속 시킴. (save_best_only=True를 사용하여 최상의 검증 세트의 모델만 저장하는 것도 가능)\n",
        "        def on_epoch_end(self, epoch, logs={}):\n",
        "            if logs.get('accuracy') is not None and logs.get('accuracy') > 0.99:\n",
        "                print(\"\\nReached 99% accuracy so cancelling training!\")\n",
        "                self.model.stop_training = True\n",
        "\n",
        "    # YOUR CODE SHOULD END HERE\n",
        "\n",
        "    mnist = tf.keras.datasets.mnist   #tf.keras.datasets에서 mnist의 data set(학습 데이터와 테스트 데이터)을 로드\n",
        "\n",
        "    (x_train, y_train),(x_test, y_test) = mnist.load_data()   #train, test로 나누어 제공하기 때문에 그에 맞게 나누어서 로드 / (학습 이미지, 학습 레이블), (테스트 이미지, 테스트 레이블)\n",
        "    \n",
        "    # YOUR CODE SHOULD START HERE\n",
        "    # 모든 이미지는 픽셀 정보를 0~255의 숫자 값으로 저장\n",
        "    x_train, x_test = x_train / 255.0, x_test / 255.0    #모든 값을 0과 1 사이로 만드는 과정(정규화, normalizing). 다루기 쉬워짐. 따라서 각 값을 255로 나누는 것\n",
        "\n",
        "    callbacks = myCallback()\n",
        "    \n",
        "    # YOUR CODE SHOULD END HERE\n",
        "    # sequence model API(Application Programming Interface)를  사용\n",
        "    # 입력 data의 크기는 첫 번째 layer에서만 정의하면 됨. 마지막 layer의 결과 값은 softmax 활성화 함수를 거치며 여기서 Fashion-MNIST의 10가지 범주의 데이터를 분류\n",
        "    # softmax 함수는 다중 클래스 분류 문제에서 출력layer에 주로 사용됨. dense layer는 이전 layer의 모든 뉴런과 결합된 형태의 layer\n",
        "    model = tf.keras.models.Sequential([\n",
        "        tf.keras.layers.Flatten(input_shape=(28, 28)), # YOUR CODE HERE  # Flatten()은 이미지를 일차원으로 바꿔줌 \n",
        "        # 최종 출력값에서 출력 512개를 입력 값으로 받아서 0~9 레이블인 10개 출력하기\n",
        "        tf.keras.layers.Dense(512, activation=tf.nn.relu), # YOUR CODE HERE  \n",
        "        tf.keras.layers.Dense(10, activation=tf.nn.softmax) # YOUR CODE HERE\n",
        "    ])\n",
        "    \n",
        "    # model compile()을 사용하여 model을 학습시키기 전에 학습 프로세스를 구성. \n",
        "    # 이 과정에서는 loss function, optimizer의 종류 및 학습과 테스트 중 모델을 평가할 지표(metrics)를 정의\n",
        "    model.compile(optimizer='adam',\n",
        "                  loss='sparse_categorical_crossentropy',\n",
        "                  metrics=['accuracy'])\n",
        "    \n",
        "    # model fitting\n",
        "    history = model.fit(x_train, y_train, epochs=10, callbacks=[callbacks] # YOUR CODE HERE\n",
        "    )\n",
        "    # model fitting\n",
        "    \n",
        "    return history.epoch, history.history['accuracy'][-1]"
      ],
      "execution_count": null,
      "outputs": []
    },
    {
      "cell_type": "markdown",
      "source": [
        "MLP 모델 생성(분류)\n",
        "방법1 : Sequential 불러온 후 계층을 add\n",
        "```python\n",
        "model=keras.models.Sequential()\n",
        "model.add(keras.layers.Flatten(input_shape=[28,28])) #입력 shape\n",
        "model.add(keras.layers.Dense(300, activation='relu'))\n",
        "model.add(keras.layers.Dense(10, activation='softmax')) #softmax: 이진분류 시 sigmoid\n",
        "```\n",
        "\n",
        "방법2 : \n",
        "```python\n",
        "model = keras.models.Sequential([\n",
        "        keras.layers.Flatten(input_shape=[28,28]),\n",
        "        keras.layers.Dense(300, activation='relu'),\n",
        "        keras.layers.Dense(10, activation='softmax')\n",
        "])\n",
        "```"
      ],
      "metadata": {
        "id": "f_zRgiC43tqP"
      }
    },
    {
      "cell_type": "code",
      "metadata": {
        "id": "sFgpwbGly4u4"
      },
      "source": [
        "train_mnist()"
      ],
      "execution_count": null,
      "outputs": []
    },
    {
      "cell_type": "code",
      "metadata": {
        "id": "8iU8fVSay4u4"
      },
      "source": [
        ""
      ],
      "execution_count": null,
      "outputs": []
    }
  ]
}