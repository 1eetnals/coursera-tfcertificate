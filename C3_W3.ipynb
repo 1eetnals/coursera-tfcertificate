{
  "nbformat": 4,
  "nbformat_minor": 0,
  "metadata": {
    "accelerator": "GPU",
    "colab": {
      "name": "C3_W3.ipynb",
      "provenance": [],
      "collapsed_sections": [],
      "include_colab_link": true
    },
    "kernelspec": {
      "name": "python3",
      "display_name": "Python 3"
    },
    "language_info": {
      "name": "python"
    }
  },
  "cells": [
    {
      "cell_type": "markdown",
      "metadata": {
        "id": "view-in-github",
        "colab_type": "text"
      },
      "source": [
        "<a href=\"https://colab.research.google.com/github/1eetnals/coursera-tfcertificate/blob/main/C3_W3.ipynb\" target=\"_parent\"><img src=\"https://colab.research.google.com/assets/colab-badge.svg\" alt=\"Open In Colab\"/></a>"
      ]
    },
    {
      "cell_type": "code",
      "metadata": {
        "id": "zX4Kg8DUTKWO"
      },
      "source": [
        "#@title Licensed under the Apache License, Version 2.0 (the \"License\");\n",
        "# you may not use this file except in compliance with the License.\n",
        "# You may obtain a copy of the License at\n",
        "#\n",
        "# https://www.apache.org/licenses/LICENSE-2.0\n",
        "#\n",
        "# Unless required by applicable law or agreed to in writing, software\n",
        "# distributed under the License is distributed on an \"AS IS\" BASIS,\n",
        "# WITHOUT WARRANTIES OR CONDITIONS OF ANY KIND, either express or implied.\n",
        "# See the License for the specific language governing permissions and\n",
        "# limitations under the License."
      ],
      "execution_count": null,
      "outputs": []
    },
    {
      "cell_type": "markdown",
      "metadata": {
        "id": "-v8aHcpUdtKN"
      },
      "source": [
        "**Note:** This notebook can run using TensorFlow 2.5.0"
      ]
    },
    {
      "cell_type": "code",
      "metadata": {
        "id": "FtL554lDdtKO"
      },
      "source": [
        "#!pip install tensorflow==2.5.0"
      ],
      "execution_count": null,
      "outputs": []
    },
    {
      "cell_type": "code",
      "metadata": {
        "id": "hmA6EzkQJ5jt"
      },
      "source": [
        "import json   \n",
        "# json(JavaScript Object Notation)으로 XML, YAML과 함께 효율적으로 데이터를 저장하고 교환하는데 사용하는 텍스트 데이터 포맷 중 하나\n",
        "import tensorflow as tf\n",
        "import csv\n",
        "import random\n",
        "import numpy as np\n",
        "\n",
        "from tensorflow.keras.preprocessing.text import Tokenizer\n",
        "from tensorflow.keras.preprocessing.sequence import pad_sequences\n",
        "from tensorflow.keras.utils import to_categorical\n",
        "from tensorflow.keras import regularizers\n",
        "\n",
        "\n",
        "embedding_dim = 100   # embedding_dim은 임베딩 할 벡터의 차원. 사용자가 지정하는 hyperparameter\n",
        "max_length = 16\n",
        "trunc_type='post'   # truncating parameter는 최대 길이를 넘는 시퀀스를 잘라낼 위치(post : 뒷부분)\n",
        "padding_type='post'   # padding parameter를 'post'로 지정하면 시퀀스의 뒤에 패딩이 채워짐(pre : 앞부분)\n",
        "oov_tok = \"<OOV>\"\n",
        "training_size=160000\n",
        "test_portion=.1\n",
        "\n",
        "corpus = []\n"
      ],
      "execution_count": null,
      "outputs": []
    },
    {
      "cell_type": "code",
      "metadata": {
        "id": "bM0l_dORKqE0",
        "colab": {
          "base_uri": "https://localhost:8080/"
        },
        "outputId": "dfb7202b-dd75-47b7-c493-0347f2baad2f"
      },
      "source": [
        "# Note that I cleaned the Stanford dataset to remove LATIN1 encoding to make it easier for Python CSV reader\n",
        "# (Python CSV 판독기가 보다 쉽게 사용할 수 있도록 스탠포드 데이터 세트를 정리하여 LATIN1 인코딩을 제거)\n",
        "# You can do that yourself with:\n",
        "# iconv -f LATIN1 -t UTF8 training.1600000.processed.noemoticon.csv -o training_cleaned.csv\n",
        "\n",
        "# training_cleaned.csv\n",
        "!gdown --id 1wd8KaeCSHxt-nEpMeuHFSNWrDp8joUXJ\n",
        "\n",
        "num_sentences = 0\n",
        "\n",
        "# CSV 파일을 읽는 것\n",
        "with open(\"./training_cleaned.csv\") as csvfile:\n",
        "    reader = csv.reader(csvfile, delimiter=',')\n",
        "    for row in reader:\n",
        "        list_item=[]\n",
        "        \n",
        "        ### START CODE HERE\n",
        "        list_item.append(row[5])\n",
        "        this_label=row[0]\n",
        "        if this_label=='0':\n",
        "            list_item.append(0)\n",
        "        else:\n",
        "            list_item.append(1)\n",
        "        ### END CODE HERE\n",
        "        \n",
        "        num_sentences = num_sentences + 1\n",
        "        corpus.append(list_item)\n"
      ],
      "execution_count": null,
      "outputs": [
        {
          "output_type": "stream",
          "name": "stdout",
          "text": [
            "Downloading...\n",
            "From: https://drive.google.com/uc?id=1wd8KaeCSHxt-nEpMeuHFSNWrDp8joUXJ\n",
            "To: /content/training_cleaned.csv\n",
            "100% 239M/239M [00:02<00:00, 117MB/s]\n"
          ]
        }
      ]
    },
    {
      "cell_type": "code",
      "metadata": {
        "id": "3kxblBUjEUX-",
        "colab": {
          "base_uri": "https://localhost:8080/"
        },
        "outputId": "4b09dead-40f7-4963-bcc0-e51fea0c32c1"
      },
      "source": [
        "print(num_sentences)\n",
        "print(len(corpus))\n",
        "print(corpus[1])\n",
        "\n",
        "# Expected Output:\n",
        "# 1600000\n",
        "# 1600000\n",
        "# [\"is upset that he can't update his Facebook by texting it... and might cry as a result  School today also. Blah!\", 0]"
      ],
      "execution_count": null,
      "outputs": [
        {
          "output_type": "stream",
          "name": "stdout",
          "text": [
            "1600000\n",
            "1600000\n",
            "[\"is upset that he can't update his Facebook by texting it... and might cry as a result  School today also. Blah!\", 0]\n"
          ]
        }
      ]
    },
    {
      "cell_type": "code",
      "metadata": {
        "id": "ohOGz24lsNAD"
      },
      "source": [
        "sentences=[]\n",
        "labels=[]\n",
        "random.shuffle(corpus)  # corpus 항목 섞기\n",
        "for x in range(training_size):\n",
        "    sentences.append(corpus[x][0])# YOUR CODE HERE)\n",
        "    labels.append(corpus[x][1])# YOUR CODE HERE)\n",
        "\n",
        "\n",
        "tokenizer = Tokenizer()\n",
        "tokenizer.fit_on_texts(sentences)# YOUR CODE HERE)\n",
        "\n",
        "word_index = tokenizer.word_index   # tokenizer의 workd_index 속성은 단어와 숫자의 키-값 쌍을 포함하는 딕셔너리를 반환\n",
        "vocab_size=len(word_index)# YOUR CODE HERE)\n",
        "\n",
        "sequences = tokenizer.texts_to_sequences(sentences)# YOUR CODE HERE)\n",
        "padded = pad_sequences(sequences, maxlen=max_length, padding=padding_type, truncating=trunc_type)# YOUR CODE HERE)\n",
        "\n",
        "split = int(test_portion * training_size)\n",
        "\n",
        "test_sequences = padded[0:split]# YOUR CODE HERE)\n",
        "training_sequences = padded[split:training_size]# YOUR CODE HERE)\n",
        "test_labels = labels[0:split]# YOUR CODE HERE)\n",
        "training_labels = labels[split:training_size]# YOUR CODE HERE)"
      ],
      "execution_count": null,
      "outputs": []
    },
    {
      "cell_type": "code",
      "metadata": {
        "id": "gIrtRem1En3N",
        "colab": {
          "base_uri": "https://localhost:8080/"
        },
        "outputId": "f411892d-6d4a-420b-c879-0412a6939805"
      },
      "source": [
        "print(vocab_size)\n",
        "print(word_index['i'])\n",
        "# Expected Output\n",
        "# 138856\n",
        "# 1"
      ],
      "execution_count": null,
      "outputs": [
        {
          "output_type": "stream",
          "name": "stdout",
          "text": [
            "138581\n",
            "1\n"
          ]
        }
      ]
    },
    {
      "cell_type": "code",
      "metadata": {
        "id": "C1zdgJkusRh0",
        "colab": {
          "base_uri": "https://localhost:8080/"
        },
        "outputId": "0dcf6476-283b-47c2-cd96-a33d35251995"
      },
      "source": [
        "# Note this is the 100 dimension version of GloVe from Stanford\n",
        "# (Stanford의 GloVe 100차원 버전임)\n",
        "\n",
        "# glove.6B.100d.txt\n",
        "!gdown --id 1W5vZy2etitAblLdFn8_DxnsQKzfFJ98g\n",
        "\n",
        "embeddings_index = {};\n",
        "with open('./glove.6B.100d.txt') as f:\n",
        "    for line in f:\n",
        "        values = line.split();\n",
        "        word = values[0];\n",
        "        coefs = np.asarray(values[1:], dtype='float32');  # dtype=data type\n",
        "        embeddings_index[word] = coefs;\n",
        "\n",
        "embeddings_matrix = np.zeros((vocab_size+1, embedding_dim));\n",
        "for word, i in word_index.items():\n",
        "    embedding_vector = embeddings_index.get(word);\n",
        "    if embedding_vector is not None:\n",
        "        embeddings_matrix[i] = embedding_vector;"
      ],
      "execution_count": null,
      "outputs": [
        {
          "output_type": "stream",
          "name": "stdout",
          "text": [
            "Downloading...\n",
            "From: https://drive.google.com/uc?id=1W5vZy2etitAblLdFn8_DxnsQKzfFJ98g\n",
            "To: /content/glove.6B.100d.txt\n",
            "100% 347M/347M [00:02<00:00, 121MB/s]\n"
          ]
        }
      ]
    },
    {
      "cell_type": "code",
      "metadata": {
        "id": "71NLk_lpFLNt",
        "colab": {
          "base_uri": "https://localhost:8080/"
        },
        "outputId": "cbe0b8e5-021e-46ec-ca35-871567d6dcb4"
      },
      "source": [
        "print(len(embeddings_matrix))\n",
        "# Expected Output\n",
        "# 138857"
      ],
      "execution_count": null,
      "outputs": [
        {
          "output_type": "stream",
          "name": "stdout",
          "text": [
            "138582\n"
          ]
        }
      ]
    },
    {
      "cell_type": "code",
      "metadata": {
        "id": "iKKvbuEBOGFz",
        "colab": {
          "base_uri": "https://localhost:8080/"
        },
        "outputId": "a8fa7e35-1ada-4c38-ed4e-ab2d39103aff"
      },
      "source": [
        "model = tf.keras.Sequential([\n",
        "    # YOUR CODE HERE\n",
        "    tf.keras.layers.Embedding(vocab_size+1, embedding_dim, input_length=max_length, weights=[embeddings_matrix], trainable=False),\n",
        "    tf.keras.layers.Dropout(0.2),\n",
        "    tf.keras.layers.Conv1D(64, 5, activation='relu'),\n",
        "    tf.keras.layers.MaxPooling1D(pool_size=4),\n",
        "    tf.keras.layers.LSTM(64),\n",
        "    tf.keras.layers.Dense(1, activation='sigmoid')\n",
        "])\n",
        "model.compile(loss='binary_crossentropy',optimizer='adam',metrics=['accuracy'])# YOUR CODE HERE)\n",
        "model.summary()\n",
        "\n",
        "num_epochs = 50\n",
        "\n",
        "training_padded = np.array(training_sequences)\n",
        "training_labels = np.array(training_labels)\n",
        "testing_padded = np.array(test_sequences)\n",
        "testing_labels = np.array(test_labels)\n",
        "\n",
        "history = model.fit(training_padded, training_labels, epochs=num_epochs, validation_data=(testing_padded, testing_labels), verbose=2)\n",
        "\n",
        "print(\"Training Complete\")"
      ],
      "execution_count": null,
      "outputs": [
        {
          "output_type": "stream",
          "name": "stdout",
          "text": [
            "Model: \"sequential\"\n",
            "_________________________________________________________________\n",
            " Layer (type)                Output Shape              Param #   \n",
            "=================================================================\n",
            " embedding (Embedding)       (None, 16, 100)           13858200  \n",
            "                                                                 \n",
            " dropout (Dropout)           (None, 16, 100)           0         \n",
            "                                                                 \n",
            " conv1d (Conv1D)             (None, 12, 64)            32064     \n",
            "                                                                 \n",
            " max_pooling1d (MaxPooling1D  (None, 3, 64)            0         \n",
            " )                                                               \n",
            "                                                                 \n",
            " lstm (LSTM)                 (None, 64)                33024     \n",
            "                                                                 \n",
            " dense (Dense)               (None, 1)                 65        \n",
            "                                                                 \n",
            "=================================================================\n",
            "Total params: 13,923,353\n",
            "Trainable params: 65,153\n",
            "Non-trainable params: 13,858,200\n",
            "_________________________________________________________________\n",
            "Epoch 1/50\n",
            "4500/4500 - 36s - loss: 0.5678 - accuracy: 0.7003 - val_loss: 0.5221 - val_accuracy: 0.7367 - 36s/epoch - 8ms/step\n",
            "Epoch 2/50\n",
            "4500/4500 - 21s - loss: 0.5279 - accuracy: 0.7316 - val_loss: 0.5044 - val_accuracy: 0.7498 - 21s/epoch - 5ms/step\n",
            "Epoch 3/50\n",
            "4500/4500 - 20s - loss: 0.5107 - accuracy: 0.7445 - val_loss: 0.5007 - val_accuracy: 0.7500 - 20s/epoch - 4ms/step\n",
            "Epoch 4/50\n",
            "4500/4500 - 20s - loss: 0.4995 - accuracy: 0.7513 - val_loss: 0.4992 - val_accuracy: 0.7524 - 20s/epoch - 4ms/step\n",
            "Epoch 5/50\n",
            "4500/4500 - 20s - loss: 0.4902 - accuracy: 0.7579 - val_loss: 0.4947 - val_accuracy: 0.7566 - 20s/epoch - 5ms/step\n",
            "Epoch 6/50\n",
            "4500/4500 - 20s - loss: 0.4832 - accuracy: 0.7612 - val_loss: 0.4945 - val_accuracy: 0.7563 - 20s/epoch - 5ms/step\n",
            "Epoch 7/50\n",
            "4500/4500 - 21s - loss: 0.4765 - accuracy: 0.7658 - val_loss: 0.4962 - val_accuracy: 0.7602 - 21s/epoch - 5ms/step\n",
            "Epoch 8/50\n",
            "4500/4500 - 22s - loss: 0.4715 - accuracy: 0.7707 - val_loss: 0.4954 - val_accuracy: 0.7554 - 22s/epoch - 5ms/step\n",
            "Epoch 9/50\n",
            "4500/4500 - 20s - loss: 0.4671 - accuracy: 0.7719 - val_loss: 0.4967 - val_accuracy: 0.7578 - 20s/epoch - 5ms/step\n",
            "Epoch 10/50\n",
            "4500/4500 - 22s - loss: 0.4639 - accuracy: 0.7750 - val_loss: 0.4993 - val_accuracy: 0.7525 - 22s/epoch - 5ms/step\n",
            "Epoch 11/50\n",
            "4500/4500 - 21s - loss: 0.4607 - accuracy: 0.7759 - val_loss: 0.4978 - val_accuracy: 0.7575 - 21s/epoch - 5ms/step\n",
            "Epoch 12/50\n",
            "4500/4500 - 20s - loss: 0.4572 - accuracy: 0.7787 - val_loss: 0.5034 - val_accuracy: 0.7532 - 20s/epoch - 5ms/step\n",
            "Epoch 13/50\n",
            "4500/4500 - 21s - loss: 0.4542 - accuracy: 0.7808 - val_loss: 0.5010 - val_accuracy: 0.7558 - 21s/epoch - 5ms/step\n",
            "Epoch 14/50\n",
            "4500/4500 - 20s - loss: 0.4524 - accuracy: 0.7803 - val_loss: 0.5021 - val_accuracy: 0.7558 - 20s/epoch - 4ms/step\n",
            "Epoch 15/50\n",
            "4500/4500 - 19s - loss: 0.4494 - accuracy: 0.7824 - val_loss: 0.5049 - val_accuracy: 0.7542 - 19s/epoch - 4ms/step\n",
            "Epoch 16/50\n",
            "4500/4500 - 20s - loss: 0.4492 - accuracy: 0.7831 - val_loss: 0.5026 - val_accuracy: 0.7580 - 20s/epoch - 4ms/step\n",
            "Epoch 17/50\n",
            "4500/4500 - 21s - loss: 0.4464 - accuracy: 0.7842 - val_loss: 0.5052 - val_accuracy: 0.7556 - 21s/epoch - 5ms/step\n",
            "Epoch 18/50\n",
            "4500/4500 - 21s - loss: 0.4457 - accuracy: 0.7854 - val_loss: 0.5073 - val_accuracy: 0.7533 - 21s/epoch - 5ms/step\n",
            "Epoch 19/50\n",
            "4500/4500 - 19s - loss: 0.4437 - accuracy: 0.7862 - val_loss: 0.5027 - val_accuracy: 0.7554 - 19s/epoch - 4ms/step\n",
            "Epoch 20/50\n",
            "4500/4500 - 19s - loss: 0.4423 - accuracy: 0.7884 - val_loss: 0.5051 - val_accuracy: 0.7549 - 19s/epoch - 4ms/step\n",
            "Epoch 21/50\n",
            "4500/4500 - 21s - loss: 0.4424 - accuracy: 0.7867 - val_loss: 0.5065 - val_accuracy: 0.7543 - 21s/epoch - 5ms/step\n",
            "Epoch 22/50\n",
            "4500/4500 - 21s - loss: 0.4394 - accuracy: 0.7885 - val_loss: 0.5114 - val_accuracy: 0.7523 - 21s/epoch - 5ms/step\n",
            "Epoch 23/50\n",
            "4500/4500 - 22s - loss: 0.4387 - accuracy: 0.7892 - val_loss: 0.5092 - val_accuracy: 0.7539 - 22s/epoch - 5ms/step\n",
            "Epoch 24/50\n",
            "4500/4500 - 22s - loss: 0.4381 - accuracy: 0.7899 - val_loss: 0.5090 - val_accuracy: 0.7503 - 22s/epoch - 5ms/step\n",
            "Epoch 25/50\n",
            "4500/4500 - 21s - loss: 0.4378 - accuracy: 0.7906 - val_loss: 0.5095 - val_accuracy: 0.7542 - 21s/epoch - 5ms/step\n",
            "Epoch 26/50\n",
            "4500/4500 - 22s - loss: 0.4362 - accuracy: 0.7917 - val_loss: 0.5162 - val_accuracy: 0.7521 - 22s/epoch - 5ms/step\n",
            "Epoch 27/50\n",
            "4500/4500 - 22s - loss: 0.4359 - accuracy: 0.7916 - val_loss: 0.5079 - val_accuracy: 0.7537 - 22s/epoch - 5ms/step\n",
            "Epoch 28/50\n",
            "4500/4500 - 22s - loss: 0.4343 - accuracy: 0.7928 - val_loss: 0.5112 - val_accuracy: 0.7540 - 22s/epoch - 5ms/step\n",
            "Epoch 29/50\n",
            "4500/4500 - 20s - loss: 0.4343 - accuracy: 0.7925 - val_loss: 0.5128 - val_accuracy: 0.7530 - 20s/epoch - 5ms/step\n",
            "Epoch 30/50\n",
            "4500/4500 - 20s - loss: 0.4313 - accuracy: 0.7949 - val_loss: 0.5168 - val_accuracy: 0.7530 - 20s/epoch - 5ms/step\n",
            "Epoch 31/50\n",
            "4500/4500 - 21s - loss: 0.4326 - accuracy: 0.7915 - val_loss: 0.5133 - val_accuracy: 0.7529 - 21s/epoch - 5ms/step\n",
            "Epoch 32/50\n",
            "4500/4500 - 20s - loss: 0.4323 - accuracy: 0.7926 - val_loss: 0.5085 - val_accuracy: 0.7523 - 20s/epoch - 4ms/step\n",
            "Epoch 33/50\n",
            "4500/4500 - 20s - loss: 0.4321 - accuracy: 0.7945 - val_loss: 0.5169 - val_accuracy: 0.7496 - 20s/epoch - 4ms/step\n",
            "Epoch 34/50\n",
            "4500/4500 - 20s - loss: 0.4315 - accuracy: 0.7938 - val_loss: 0.5098 - val_accuracy: 0.7502 - 20s/epoch - 4ms/step\n",
            "Epoch 35/50\n",
            "4500/4500 - 20s - loss: 0.4300 - accuracy: 0.7952 - val_loss: 0.5136 - val_accuracy: 0.7529 - 20s/epoch - 4ms/step\n",
            "Epoch 36/50\n",
            "4500/4500 - 20s - loss: 0.4302 - accuracy: 0.7950 - val_loss: 0.5137 - val_accuracy: 0.7492 - 20s/epoch - 4ms/step\n",
            "Epoch 37/50\n",
            "4500/4500 - 20s - loss: 0.4290 - accuracy: 0.7960 - val_loss: 0.5122 - val_accuracy: 0.7536 - 20s/epoch - 4ms/step\n",
            "Epoch 38/50\n",
            "4500/4500 - 20s - loss: 0.4293 - accuracy: 0.7960 - val_loss: 0.5148 - val_accuracy: 0.7485 - 20s/epoch - 4ms/step\n",
            "Epoch 39/50\n",
            "4500/4500 - 21s - loss: 0.4279 - accuracy: 0.7962 - val_loss: 0.5156 - val_accuracy: 0.7542 - 21s/epoch - 5ms/step\n",
            "Epoch 40/50\n",
            "4500/4500 - 19s - loss: 0.4295 - accuracy: 0.7951 - val_loss: 0.5133 - val_accuracy: 0.7509 - 19s/epoch - 4ms/step\n",
            "Epoch 41/50\n",
            "4500/4500 - 20s - loss: 0.4282 - accuracy: 0.7959 - val_loss: 0.5131 - val_accuracy: 0.7478 - 20s/epoch - 4ms/step\n",
            "Epoch 42/50\n",
            "4500/4500 - 19s - loss: 0.4265 - accuracy: 0.7968 - val_loss: 0.5137 - val_accuracy: 0.7487 - 19s/epoch - 4ms/step\n",
            "Epoch 43/50\n",
            "4500/4500 - 19s - loss: 0.4266 - accuracy: 0.7963 - val_loss: 0.5173 - val_accuracy: 0.7534 - 19s/epoch - 4ms/step\n",
            "Epoch 44/50\n",
            "4500/4500 - 19s - loss: 0.4262 - accuracy: 0.7976 - val_loss: 0.5112 - val_accuracy: 0.7508 - 19s/epoch - 4ms/step\n",
            "Epoch 45/50\n",
            "4500/4500 - 19s - loss: 0.4260 - accuracy: 0.7967 - val_loss: 0.5221 - val_accuracy: 0.7515 - 19s/epoch - 4ms/step\n",
            "Epoch 46/50\n",
            "4500/4500 - 19s - loss: 0.4272 - accuracy: 0.7962 - val_loss: 0.5135 - val_accuracy: 0.7493 - 19s/epoch - 4ms/step\n",
            "Epoch 47/50\n",
            "4500/4500 - 19s - loss: 0.4280 - accuracy: 0.7964 - val_loss: 0.5200 - val_accuracy: 0.7491 - 19s/epoch - 4ms/step\n",
            "Epoch 48/50\n",
            "4500/4500 - 20s - loss: 0.4261 - accuracy: 0.7971 - val_loss: 0.5161 - val_accuracy: 0.7538 - 20s/epoch - 4ms/step\n",
            "Epoch 49/50\n",
            "4500/4500 - 19s - loss: 0.4256 - accuracy: 0.7970 - val_loss: 0.5107 - val_accuracy: 0.7544 - 19s/epoch - 4ms/step\n",
            "Epoch 50/50\n",
            "4500/4500 - 19s - loss: 0.4262 - accuracy: 0.7971 - val_loss: 0.5105 - val_accuracy: 0.7542 - 19s/epoch - 4ms/step\n",
            "Training Complete\n"
          ]
        }
      ]
    },
    {
      "cell_type": "code",
      "metadata": {
        "id": "qxju4ItJKO8F",
        "colab": {
          "base_uri": "https://localhost:8080/",
          "height": 610
        },
        "outputId": "6180513c-5d90-4384-b694-add9d1d9eaea"
      },
      "source": [
        "import matplotlib.image  as mpimg\n",
        "import matplotlib.pyplot as plt\n",
        "\n",
        "#-----------------------------------------------------------\n",
        "# Retrieve a list of list results on training and test data\n",
        "# sets for each training epoch\n",
        "#-----------------------------------------------------------\n",
        "acc=history.history['accuracy']\n",
        "val_acc=history.history['val_accuracy']\n",
        "loss=history.history['loss']\n",
        "val_loss=history.history['val_loss']\n",
        "\n",
        "epochs=range(len(acc)) # Get number of epochs\n",
        "\n",
        "#------------------------------------------------\n",
        "# Plot training and validation accuracy per epoch\n",
        "#------------------------------------------------\n",
        "plt.plot(epochs, acc, 'r')\n",
        "plt.plot(epochs, val_acc, 'b')\n",
        "plt.title('Training and validation accuracy')\n",
        "plt.xlabel(\"Epochs\")\n",
        "plt.ylabel(\"Accuracy\")\n",
        "plt.legend([\"Accuracy\", \"Validation Accuracy\"])\n",
        "\n",
        "plt.figure()\n",
        "\n",
        "#------------------------------------------------\n",
        "# Plot training and validation loss per epoch\n",
        "#------------------------------------------------\n",
        "plt.plot(epochs, loss, 'r')\n",
        "plt.plot(epochs, val_loss, 'b')\n",
        "plt.title('Training and validation loss')\n",
        "plt.xlabel(\"Epochs\")\n",
        "plt.ylabel(\"Loss\")\n",
        "plt.legend([\"Loss\", \"Validation Loss\"])\n",
        "\n",
        "plt.figure()\n",
        "\n",
        "\n",
        "# Expected Output\n",
        "# A chart where the validation loss does not increase sharply!\n",
        "# (검증 손실이 급격히 증가하지 않는 차트이다!)"
      ],
      "execution_count": null,
      "outputs": [
        {
          "output_type": "execute_result",
          "data": {
            "text/plain": [
              "<Figure size 432x288 with 0 Axes>"
            ]
          },
          "metadata": {},
          "execution_count": 9
        },
        {
          "output_type": "display_data",
          "data": {
            "image/png": "[encoded data removed]",
            "text/plain": [
              "<Figure size 432x288 with 1 Axes>"
            ]
          },
          "metadata": {
            "needs_background": "light"
          }
        },
        {
          "output_type": "display_data",
          "data": {
            "image/png": "[encoded data removed]",
            "text/plain": [
              "<Figure size 432x288 with 1 Axes>"
            ]
          },
          "metadata": {
            "needs_background": "light"
          }
        },
        {
          "output_type": "display_data",
          "data": {
            "text/plain": [
              "<Figure size 432x288 with 0 Axes>"
            ]
          },
          "metadata": {}
        }
      ]
    }
  ]
}