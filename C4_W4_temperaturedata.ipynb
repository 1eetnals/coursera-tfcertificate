{
  "nbformat": 4,
  "nbformat_minor": 0,
  "metadata": {
    "accelerator": "GPU",
    "colab": {
      "name": "C4_W4_temperaturedata.ipynb",
      "provenance": [],
      "collapsed_sections": [],
      "include_colab_link": true
    },
    "kernelspec": {
      "display_name": "Python 3",
      "name": "python3"
    },
    "language_info": {
      "name": "python"
    }
  },
  "cells": [
    {
      "cell_type": "markdown",
      "metadata": {
        "id": "view-in-github",
        "colab_type": "text"
      },
      "source": [
        "<a href=\"https://colab.research.google.com/github/1eetnals/coursera-tfcertificate/blob/main/C4_W4_temperaturedata.ipynb\" target=\"_parent\"><img src=\"https://colab.research.google.com/assets/colab-badge.svg\" alt=\"Open In Colab\"/></a>"
      ]
    },
    {
      "cell_type": "code",
      "metadata": {
        "id": "zX4Kg8DUTKWO"
      },
      "source": [
        "#@title Licensed under the Apache License, Version 2.0 (the \"License\");\n",
        "# you may not use this file except in compliance with the License.\n",
        "# You may obtain a copy of the License at\n",
        "#\n",
        "# https://www.apache.org/licenses/LICENSE-2.0\n",
        "#\n",
        "# Unless required by applicable law or agreed to in writing, software\n",
        "# distributed under the License is distributed on an \"AS IS\" BASIS,\n",
        "# WITHOUT WARRANTIES OR CONDITIONS OF ANY KIND, either express or implied.\n",
        "# See the License for the specific language governing permissions and\n",
        "# limitations under the License."
      ],
      "execution_count": null,
      "outputs": []
    },
    {
      "cell_type": "markdown",
      "metadata": {
        "id": "SfxGRc9lrs51"
      },
      "source": [
        "**Note:** This notebook can run using TensorFlow 2.5.0"
      ]
    },
    {
      "cell_type": "code",
      "metadata": {
        "id": "Z3kMLEo7rs51"
      },
      "source": [
        "#!pip install tensorflow==2.5.0"
      ],
      "execution_count": null,
      "outputs": []
    },
    {
      "cell_type": "code",
      "metadata": {
        "id": "56XEQOGknrAk",
        "colab": {
          "base_uri": "https://localhost:8080/"
        },
        "outputId": "f9efd400-5333-4c0a-9b32-bf2fee301bb4"
      },
      "source": [
        "import tensorflow as tf\n",
        "print(tf.__version__)"
      ],
      "execution_count": null,
      "outputs": [
        {
          "output_type": "stream",
          "name": "stdout",
          "text": [
            "2.7.0\n"
          ]
        }
      ]
    },
    {
      "cell_type": "code",
      "metadata": {
        "id": "sLl52leVp5wU"
      },
      "source": [
        "import numpy as np\n",
        "import matplotlib.pyplot as plt\n",
        "def plot_series(time, series, format=\"-\", start=0, end=None):  #plot그려주는것\n",
        "    plt.plot(time[start:end], series[start:end], format)\n",
        "    plt.xlabel(\"Time\")\n",
        "    plt.ylabel(\"Value\")\n",
        "    plt.grid(True)  #격자"
      ],
      "execution_count": null,
      "outputs": []
    },
    {
      "cell_type": "code",
      "metadata": {
        "id": "tP7oqUdkk0gY",
        "colab": {
          "base_uri": "https://localhost:8080/"
        },
        "outputId": "0f19646f-b051-4b51-beb4-533b2f6b43e6"
      },
      "source": [
        "!wget --no-check-certificate \\\n",
        "    https://raw.githubusercontent.com/jbrownlee/Datasets/master/daily-min-temperatures.csv"
      ],
      "execution_count": null,
      "outputs": [
        {
          "output_type": "stream",
          "name": "stdout",
          "text": [
            "--2022-02-04 07:41:57--  https://raw.githubusercontent.com/jbrownlee/Datasets/master/daily-min-temperatures.csv\n",
            "Resolving raw.githubusercontent.com (raw.githubusercontent.com)... 185.199.108.133, 185.199.109.133, 185.199.110.133, ...\n",
            "Connecting to raw.githubusercontent.com (raw.githubusercontent.com)|185.199.108.133|:443... connected.\n",
            "HTTP request sent, awaiting response... 200 OK\n",
            "Length: 67921 (66K) [text/plain]\n",
            "Saving to: ‘daily-min-temperatures.csv’\n",
            "\n",
            "\r          daily-min   0%[                    ]       0  --.-KB/s               \rdaily-min-temperatu 100%[===================>]  66.33K  --.-KB/s    in 0.01s   \n",
            "\n",
            "2022-02-04 07:41:57 (6.01 MB/s) - ‘daily-min-temperatures.csv’ saved [67921/67921]\n",
            "\n"
          ]
        }
      ]
    },
    {
      "cell_type": "code",
      "metadata": {
        "id": "NcG9r1eClbTh",
        "colab": {
          "base_uri": "https://localhost:8080/",
          "height": 388
        },
        "outputId": "e4e9fd83-aa96-4062-e70c-6ab91e37a9ae"
      },
      "source": [
        "import csv\n",
        "time_step = []\n",
        "temps = []\n",
        "\n",
        "with open('./daily-min-temperatures.csv') as csvfile:\n",
        "# YOUR CODE HERE. READ TEMPERATURES INTO TEMPS\n",
        "# HAVE TIME STEPS BE A SIMPLE ARRAY OF 1, 2, 3, 4 etc\n",
        "  reader = csv.reader(csvfile, delimiter=',')\n",
        "  next(reader)   #next()주의!\n",
        "  step=0\n",
        "  for row in reader:\n",
        "    temps.append(float(row[1]))  #float(row[1])주의! 퀴즈에서 열행헷갈렸었음\n",
        "    time_step.append(step)\n",
        "    step = step + 1\n",
        "\n",
        "series = np.array(temps)\n",
        "time = np.array(time_step)\n",
        "plt.figure(figsize=(10, 6))\n",
        "plot_series(time, series)"
      ],
      "execution_count": null,
      "outputs": [
        {
          "output_type": "display_data",
          "data": {
            "image/png": "[encoded data removed]",
            "text/plain": [
              "<Figure size 720x432 with 1 Axes>"
            ]
          },
          "metadata": {
            "needs_background": "light"
          }
        }
      ]
    },
    {
      "cell_type": "code",
      "metadata": {
        "id": "L92YRw_IpCFG"
      },
      "source": [
        "#train, valid 영역 설정\n",
        "split_time = 2500\n",
        "time_train = time[:split_time] # YOUR CODE HERE\n",
        "x_train = series[:split_time] # YOUR CODE HERE\n",
        "time_valid = time[split_time:] # YOUR CODE HERE\n",
        "x_valid = series[split_time:] # YOUR CODE HERE\n",
        "\n",
        "window_size = 30\n",
        "batch_size = 32\n",
        "shuffle_buffer_size = 1000\n"
      ],
      "execution_count": null,
      "outputs": []
    },
    {
      "cell_type": "code",
      "metadata": {
        "id": "lJwUUZscnG38"
      },
      "source": [
        "#W3에 다 설명 되어있음(동일한 순서임, ds.map빼고)\n",
        "def windowed_dataset(series, window_size, batch_size, shuffle_buffer):\n",
        "    # YOUR CODE HERE\n",
        "    series = tf.expand_dims(series, axis=-1)\n",
        "    ds = tf.data.Dataset.from_tensor_slices(series)\n",
        "    ds = ds.window(window_size + 1, shift=1, drop_remainder=True)\n",
        "    ds = ds.flat_map(lambda w: w.batch(window_size + 1)) \n",
        "    ds = ds.shuffle(shuffle_buffer)\n",
        "    \n",
        "    #map함수 : dataset전체에 함수를 맵핑, time series dataset을 만드려는 경우, train/label값을 분류하는 용도로 활용가능\n",
        "    ds = ds.map(lambda w: (w[:-1], w[1:]))\n",
        "    return ds.batch(batch_size).prefetch(1)"
      ],
      "execution_count": null,
      "outputs": []
    },
    {
      "cell_type": "code",
      "metadata": {
        "id": "4XwGrf-A_wF0"
      },
      "source": [
        "def model_forecast(model, series, window_size):\n",
        "    # YOUR CODE HERE\n",
        "    ds = tf.data.Dataset.from_tensor_slices(series)\n",
        "    ds = ds.window(window_size, shift=1, drop_remainder=True)\n",
        "    ds = ds.flat_map(lambda w: w.batch(window_size))\n",
        "    ds = ds.batch(32).prefetch(1)\n",
        "    forecast = model.predict(ds)   #모델 직접 사용하는 함수: 임의의 입력으로 모델의 출력 얻고자\n",
        "    return forecast"
      ],
      "execution_count": null,
      "outputs": []
    },
    {
      "cell_type": "code",
      "metadata": {
        "colab": {
          "base_uri": "https://localhost:8080/"
        },
        "id": "AclfYY3Mn6Ph",
        "outputId": "3b1fcc08-a43a-4cd0-ef87-7917d3986d21"
      },
      "source": [
        "tf.keras.backend.clear_session()\n",
        "tf.random.set_seed(51)\n",
        "np.random.seed(51)\n",
        "window_size = 64\n",
        "batch_size = 256\n",
        "train_set = windowed_dataset(x_train, window_size, batch_size, shuffle_buffer_size)\n",
        "print(train_set)\n",
        "print(x_train.shape)\n",
        "\n",
        "model = tf.keras.models.Sequential([\n",
        "  tf.keras.layers.Conv1D(filters=32, kernel_size=5,   #conv1d주의!\n",
        "                      strides=1, padding=\"causal\",  # padding종류엔 valid(패딩없음), casual(인과적(팽창된)컨볼루션 실행), same(아웃풋이 원래 인풋과 동일한 길이를 갖도록 인풋 패딩)\n",
        "                      activation=\"relu\",\n",
        "                      input_shape=[None, 1]),\n",
        "  tf.keras.layers.LSTM(64, return_sequences=True),\n",
        "  tf.keras.layers.LSTM(64, return_sequences=True),\n",
        "  tf.keras.layers.Dense(30, activation=\"relu\"),\n",
        "  tf.keras.layers.Dense(10, activation=\"relu\"),\n",
        "  tf.keras.layers.Dense(1),\n",
        "  tf.keras.layers.Lambda(lambda x: x * 400)\n",
        "])\n",
        "  #W3첫번째꺼랑 아래 완전히 일치: 보통 이렇게 설정하는듯\n",
        "lr_schedule = tf.keras.callbacks.LearningRateScheduler(#learning rate유지하다가 그 이후 점차적으로 learning rate를 줄이는 방법, epoch에 따라 학습률을 조정하는 callback\n",
        "    lambda epoch: 1e-8 * 10**(epoch / 20))   \n",
        "optimizer = tf.keras.optimizers.SGD(learning_rate=1e-8, momentum=0.9)\n",
        "model.compile(loss=tf.keras.losses.Huber(),\n",
        "              optimizer=optimizer,\n",
        "              metrics=[\"mae\"])\n",
        "history = model.fit(train_set, epochs=100, callbacks=[lr_schedule])\n"
      ],
      "execution_count": null,
      "outputs": [
        {
          "output_type": "stream",
          "name": "stdout",
          "text": [
            "<PrefetchDataset shapes: ((None, None, 1), (None, None, 1)), types: (tf.float64, tf.float64)>\n",
            "(2500,)\n",
            "Epoch 1/100\n",
            "10/10 [==============================] - 5s 47ms/step - loss: 31.1571 - mae: 31.6550 - lr: 1.0000e-08\n",
            "Epoch 2/100\n",
            "10/10 [==============================] - 1s 58ms/step - loss: 30.5778 - mae: 31.0756 - lr: 1.1220e-08\n",
            "Epoch 3/100\n",
            "10/10 [==============================] - 1s 59ms/step - loss: 29.6825 - mae: 30.1801 - lr: 1.2589e-08\n",
            "Epoch 4/100\n",
            "10/10 [==============================] - 1s 57ms/step - loss: 28.5613 - mae: 29.0586 - lr: 1.4125e-08\n",
            "Epoch 5/100\n",
            "10/10 [==============================] - 1s 100ms/step - loss: 27.1974 - mae: 27.6945 - lr: 1.5849e-08\n",
            "Epoch 6/100\n",
            "10/10 [==============================] - 1s 59ms/step - loss: 25.5017 - mae: 25.9986 - lr: 1.7783e-08\n",
            "Epoch 7/100\n",
            "10/10 [==============================] - 1s 60ms/step - loss: 23.3464 - mae: 23.8429 - lr: 1.9953e-08\n",
            "Epoch 8/100\n",
            "10/10 [==============================] - 1s 58ms/step - loss: 20.6147 - mae: 21.1108 - lr: 2.2387e-08\n",
            "Epoch 9/100\n",
            "10/10 [==============================] - 1s 60ms/step - loss: 17.3142 - mae: 17.8091 - lr: 2.5119e-08\n",
            "Epoch 10/100\n",
            "10/10 [==============================] - 1s 57ms/step - loss: 13.6448 - mae: 14.1371 - lr: 2.8184e-08\n",
            "Epoch 11/100\n",
            "10/10 [==============================] - 1s 57ms/step - loss: 10.1272 - mae: 10.6152 - lr: 3.1623e-08\n",
            "Epoch 12/100\n",
            "10/10 [==============================] - 1s 57ms/step - loss: 7.6174 - mae: 8.1025 - lr: 3.5481e-08\n",
            "Epoch 13/100\n",
            "10/10 [==============================] - 1s 58ms/step - loss: 6.2869 - mae: 6.7711 - lr: 3.9811e-08\n",
            "Epoch 14/100\n",
            "10/10 [==============================] - 1s 60ms/step - loss: 5.7015 - mae: 6.1856 - lr: 4.4668e-08\n",
            "Epoch 15/100\n",
            "10/10 [==============================] - 1s 61ms/step - loss: 5.3344 - mae: 5.8166 - lr: 5.0119e-08\n",
            "Epoch 16/100\n",
            "10/10 [==============================] - 1s 58ms/step - loss: 4.9409 - mae: 5.4206 - lr: 5.6234e-08\n",
            "Epoch 17/100\n",
            "10/10 [==============================] - 1s 60ms/step - loss: 4.5578 - mae: 5.0338 - lr: 6.3096e-08\n",
            "Epoch 18/100\n",
            "10/10 [==============================] - 1s 58ms/step - loss: 4.2340 - mae: 4.7085 - lr: 7.0795e-08\n",
            "Epoch 19/100\n",
            "10/10 [==============================] - 1s 60ms/step - loss: 3.9611 - mae: 4.4360 - lr: 7.9433e-08\n",
            "Epoch 20/100\n",
            "10/10 [==============================] - 1s 60ms/step - loss: 3.7448 - mae: 4.2177 - lr: 8.9125e-08\n",
            "Epoch 21/100\n",
            "10/10 [==============================] - 1s 57ms/step - loss: 3.5855 - mae: 4.0566 - lr: 1.0000e-07\n",
            "Epoch 22/100\n",
            "10/10 [==============================] - 1s 58ms/step - loss: 3.4641 - mae: 3.9344 - lr: 1.1220e-07\n",
            "Epoch 23/100\n",
            "10/10 [==============================] - 1s 60ms/step - loss: 3.3711 - mae: 3.8414 - lr: 1.2589e-07\n",
            "Epoch 24/100\n",
            "10/10 [==============================] - 1s 59ms/step - loss: 3.2948 - mae: 3.7645 - lr: 1.4125e-07\n",
            "Epoch 25/100\n",
            "10/10 [==============================] - 1s 58ms/step - loss: 3.2288 - mae: 3.6978 - lr: 1.5849e-07\n",
            "Epoch 26/100\n",
            "10/10 [==============================] - 1s 62ms/step - loss: 3.1662 - mae: 3.6346 - lr: 1.7783e-07\n",
            "Epoch 27/100\n",
            "10/10 [==============================] - 1s 58ms/step - loss: 3.1014 - mae: 3.5693 - lr: 1.9953e-07\n",
            "Epoch 28/100\n",
            "10/10 [==============================] - 1s 61ms/step - loss: 3.0380 - mae: 3.5053 - lr: 2.2387e-07\n",
            "Epoch 29/100\n",
            "10/10 [==============================] - 1s 59ms/step - loss: 2.9716 - mae: 3.4379 - lr: 2.5119e-07\n",
            "Epoch 30/100\n",
            "10/10 [==============================] - 1s 62ms/step - loss: 2.9063 - mae: 3.3712 - lr: 2.8184e-07\n",
            "Epoch 31/100\n",
            "10/10 [==============================] - 1s 61ms/step - loss: 2.8452 - mae: 3.3098 - lr: 3.1623e-07\n",
            "Epoch 32/100\n",
            "10/10 [==============================] - 1s 60ms/step - loss: 2.7842 - mae: 3.2479 - lr: 3.5481e-07\n",
            "Epoch 33/100\n",
            "10/10 [==============================] - 1s 60ms/step - loss: 2.7256 - mae: 3.1891 - lr: 3.9811e-07\n",
            "Epoch 34/100\n",
            "10/10 [==============================] - 1s 58ms/step - loss: 2.6740 - mae: 3.1379 - lr: 4.4668e-07\n",
            "Epoch 35/100\n",
            "10/10 [==============================] - 1s 60ms/step - loss: 2.6212 - mae: 3.0848 - lr: 5.0119e-07\n",
            "Epoch 36/100\n",
            "10/10 [==============================] - 1s 102ms/step - loss: 2.5728 - mae: 3.0357 - lr: 5.6234e-07\n",
            "Epoch 37/100\n",
            "10/10 [==============================] - 1s 91ms/step - loss: 2.5254 - mae: 2.9877 - lr: 6.3096e-07\n",
            "Epoch 38/100\n",
            "10/10 [==============================] - 2s 98ms/step - loss: 2.4800 - mae: 2.9415 - lr: 7.0795e-07\n",
            "Epoch 39/100\n",
            "10/10 [==============================] - 2s 103ms/step - loss: 2.4355 - mae: 2.8968 - lr: 7.9433e-07\n",
            "Epoch 40/100\n",
            "10/10 [==============================] - 1s 113ms/step - loss: 2.3933 - mae: 2.8541 - lr: 8.9125e-07\n",
            "Epoch 41/100\n",
            "10/10 [==============================] - 1s 102ms/step - loss: 2.3523 - mae: 2.8124 - lr: 1.0000e-06\n",
            "Epoch 42/100\n",
            "10/10 [==============================] - 2s 107ms/step - loss: 2.3124 - mae: 2.7718 - lr: 1.1220e-06\n",
            "Epoch 43/100\n",
            "10/10 [==============================] - 1s 60ms/step - loss: 2.2730 - mae: 2.7315 - lr: 1.2589e-06\n",
            "Epoch 44/100\n",
            "10/10 [==============================] - 1s 79ms/step - loss: 2.2338 - mae: 2.6913 - lr: 1.4125e-06\n",
            "Epoch 45/100\n",
            "10/10 [==============================] - 1s 67ms/step - loss: 2.1954 - mae: 2.6523 - lr: 1.5849e-06\n",
            "Epoch 46/100\n",
            "10/10 [==============================] - 1s 79ms/step - loss: 2.1622 - mae: 2.6190 - lr: 1.7783e-06\n",
            "Epoch 47/100\n",
            "10/10 [==============================] - 1s 72ms/step - loss: 2.1313 - mae: 2.5877 - lr: 1.9953e-06\n",
            "Epoch 48/100\n",
            "10/10 [==============================] - 1s 73ms/step - loss: 2.1047 - mae: 2.5607 - lr: 2.2387e-06\n",
            "Epoch 49/100\n",
            "10/10 [==============================] - 1s 71ms/step - loss: 2.0740 - mae: 2.5300 - lr: 2.5119e-06\n",
            "Epoch 50/100\n",
            "10/10 [==============================] - 1s 74ms/step - loss: 2.0481 - mae: 2.5040 - lr: 2.8184e-06\n",
            "Epoch 51/100\n",
            "10/10 [==============================] - 1s 68ms/step - loss: 2.0263 - mae: 2.4818 - lr: 3.1623e-06\n",
            "Epoch 52/100\n",
            "10/10 [==============================] - 1s 70ms/step - loss: 2.0048 - mae: 2.4598 - lr: 3.5481e-06\n",
            "Epoch 53/100\n",
            "10/10 [==============================] - 1s 64ms/step - loss: 1.9897 - mae: 2.4444 - lr: 3.9811e-06\n",
            "Epoch 54/100\n",
            "10/10 [==============================] - 1s 71ms/step - loss: 1.9650 - mae: 2.4193 - lr: 4.4668e-06\n",
            "Epoch 55/100\n",
            "10/10 [==============================] - 2s 105ms/step - loss: 1.9469 - mae: 2.4008 - lr: 5.0119e-06\n",
            "Epoch 56/100\n",
            "10/10 [==============================] - 1s 59ms/step - loss: 1.9247 - mae: 2.3783 - lr: 5.6234e-06\n",
            "Epoch 57/100\n",
            "10/10 [==============================] - 1s 81ms/step - loss: 1.9090 - mae: 2.3620 - lr: 6.3096e-06\n",
            "Epoch 58/100\n",
            "10/10 [==============================] - 1s 59ms/step - loss: 1.8864 - mae: 2.3394 - lr: 7.0795e-06\n",
            "Epoch 59/100\n",
            "10/10 [==============================] - 1s 58ms/step - loss: 1.8594 - mae: 2.3120 - lr: 7.9433e-06\n",
            "Epoch 60/100\n",
            "10/10 [==============================] - 1s 59ms/step - loss: 2.1962 - mae: 2.6561 - lr: 8.9125e-06\n",
            "Epoch 61/100\n",
            "10/10 [==============================] - 1s 61ms/step - loss: 2.6846 - mae: 3.1555 - lr: 1.0000e-05\n",
            "Epoch 62/100\n",
            "10/10 [==============================] - 1s 62ms/step - loss: 3.0854 - mae: 3.5612 - lr: 1.1220e-05\n",
            "Epoch 63/100\n",
            "10/10 [==============================] - 1s 61ms/step - loss: 3.5160 - mae: 3.9953 - lr: 1.2589e-05\n",
            "Epoch 64/100\n",
            "10/10 [==============================] - 1s 60ms/step - loss: 3.6586 - mae: 4.1397 - lr: 1.4125e-05\n",
            "Epoch 65/100\n",
            "10/10 [==============================] - 1s 59ms/step - loss: 4.2071 - mae: 4.6936 - lr: 1.5849e-05\n",
            "Epoch 66/100\n",
            "10/10 [==============================] - 1s 61ms/step - loss: 4.3836 - mae: 4.8700 - lr: 1.7783e-05\n",
            "Epoch 67/100\n",
            "10/10 [==============================] - 1s 60ms/step - loss: 4.6293 - mae: 5.1171 - lr: 1.9953e-05\n",
            "Epoch 68/100\n",
            "10/10 [==============================] - 1s 59ms/step - loss: 4.7018 - mae: 5.1880 - lr: 2.2387e-05\n",
            "Epoch 69/100\n",
            "10/10 [==============================] - 1s 59ms/step - loss: 4.9831 - mae: 5.4706 - lr: 2.5119e-05\n",
            "Epoch 70/100\n",
            "10/10 [==============================] - 1s 63ms/step - loss: 5.1352 - mae: 5.6217 - lr: 2.8184e-05\n",
            "Epoch 71/100\n",
            "10/10 [==============================] - 1s 60ms/step - loss: 5.7554 - mae: 6.2478 - lr: 3.1623e-05\n",
            "Epoch 72/100\n",
            "10/10 [==============================] - 1s 60ms/step - loss: 4.4634 - mae: 4.9422 - lr: 3.5481e-05\n",
            "Epoch 73/100\n",
            "10/10 [==============================] - 1s 84ms/step - loss: 5.9601 - mae: 6.4398 - lr: 3.9811e-05\n",
            "Epoch 74/100\n",
            "10/10 [==============================] - 1s 80ms/step - loss: 9.7563 - mae: 10.2539 - lr: 4.4668e-05\n",
            "Epoch 75/100\n",
            "10/10 [==============================] - 2s 106ms/step - loss: 7.0073 - mae: 7.4977 - lr: 5.0119e-05\n",
            "Epoch 76/100\n",
            "10/10 [==============================] - 1s 69ms/step - loss: 2.8844 - mae: 3.3524 - lr: 5.6234e-05\n",
            "Epoch 77/100\n",
            "10/10 [==============================] - 1s 93ms/step - loss: 3.2888 - mae: 3.7658 - lr: 6.3096e-05\n",
            "Epoch 78/100\n",
            "10/10 [==============================] - 1s 72ms/step - loss: 3.2467 - mae: 3.7221 - lr: 7.0795e-05\n",
            "Epoch 79/100\n",
            "10/10 [==============================] - 1s 73ms/step - loss: 3.0134 - mae: 3.4849 - lr: 7.9433e-05\n",
            "Epoch 80/100\n",
            "10/10 [==============================] - 1s 71ms/step - loss: 3.5874 - mae: 4.0673 - lr: 8.9125e-05\n",
            "Epoch 81/100\n",
            "10/10 [==============================] - 1s 68ms/step - loss: 4.0637 - mae: 4.5490 - lr: 1.0000e-04\n",
            "Epoch 82/100\n",
            "10/10 [==============================] - 1s 76ms/step - loss: 3.8565 - mae: 4.3364 - lr: 1.1220e-04\n",
            "Epoch 83/100\n",
            "10/10 [==============================] - 1s 74ms/step - loss: 5.0610 - mae: 5.5409 - lr: 1.2589e-04\n",
            "Epoch 84/100\n",
            "10/10 [==============================] - 1s 102ms/step - loss: 6.7184 - mae: 7.1992 - lr: 1.4125e-04\n",
            "Epoch 85/100\n",
            "10/10 [==============================] - 1s 79ms/step - loss: 23.7457 - mae: 24.2428 - lr: 1.5849e-04\n",
            "Epoch 86/100\n",
            "10/10 [==============================] - 1s 60ms/step - loss: 12.5321 - mae: 13.0210 - lr: 1.7783e-04\n",
            "Epoch 87/100\n",
            "10/10 [==============================] - 1s 58ms/step - loss: 9.0904 - mae: 9.5770 - lr: 1.9953e-04\n",
            "Epoch 88/100\n",
            "10/10 [==============================] - 1s 85ms/step - loss: 15.7614 - mae: 16.2545 - lr: 2.2387e-04\n",
            "Epoch 89/100\n",
            "10/10 [==============================] - 1s 61ms/step - loss: 42.3416 - mae: 42.8414 - lr: 2.5119e-04\n",
            "Epoch 90/100\n",
            "10/10 [==============================] - 1s 61ms/step - loss: 42.4887 - mae: 42.9884 - lr: 2.8184e-04\n",
            "Epoch 91/100\n",
            "10/10 [==============================] - 1s 59ms/step - loss: 42.8373 - mae: 43.3362 - lr: 3.1623e-04\n",
            "Epoch 92/100\n",
            "10/10 [==============================] - 1s 60ms/step - loss: 87.7502 - mae: 88.2489 - lr: 3.5481e-04\n",
            "Epoch 93/100\n",
            "10/10 [==============================] - 1s 78ms/step - loss: 100.4634 - mae: 100.9602 - lr: 3.9811e-04\n",
            "Epoch 94/100\n",
            "10/10 [==============================] - 1s 60ms/step - loss: 115.4208 - mae: 115.9204 - lr: 4.4668e-04\n",
            "Epoch 95/100\n",
            "10/10 [==============================] - 1s 109ms/step - loss: 28.4231 - mae: 28.9196 - lr: 5.0119e-04\n",
            "Epoch 96/100\n",
            "10/10 [==============================] - 2s 118ms/step - loss: 23.9078 - mae: 24.4078 - lr: 5.6234e-04\n",
            "Epoch 97/100\n",
            "10/10 [==============================] - 1s 89ms/step - loss: 38.0171 - mae: 38.5129 - lr: 6.3096e-04\n",
            "Epoch 98/100\n",
            "10/10 [==============================] - 1s 73ms/step - loss: 65.0137 - mae: 65.5110 - lr: 7.0795e-04\n",
            "Epoch 99/100\n",
            "10/10 [==============================] - 1s 84ms/step - loss: 122.1644 - mae: 122.6644 - lr: 7.9433e-04\n",
            "Epoch 100/100\n",
            "10/10 [==============================] - 1s 65ms/step - loss: 137.8966 - mae: 138.3966 - lr: 8.9125e-04\n"
          ]
        }
      ]
    },
    {
      "cell_type": "code",
      "source": [
        "#내가 돌려봄\n",
        "model.summary()"
      ],
      "metadata": {
        "colab": {
          "base_uri": "https://localhost:8080/"
        },
        "id": "1IVm7OEms-nC",
        "outputId": "489dfa37-d556-4f20-fa2e-0bbaee000afc"
      },
      "execution_count": null,
      "outputs": [
        {
          "output_type": "stream",
          "name": "stdout",
          "text": [
            "Model: \"sequential\"\n",
            "_________________________________________________________________\n",
            " Layer (type)                Output Shape              Param #   \n",
            "=================================================================\n",
            " conv1d (Conv1D)             (None, None, 32)          192       \n",
            "                                                                 \n",
            " lstm (LSTM)                 (None, None, 64)          24832     \n",
            "                                                                 \n",
            " lstm_1 (LSTM)               (None, None, 64)          33024     \n",
            "                                                                 \n",
            " dense (Dense)               (None, None, 30)          1950      \n",
            "                                                                 \n",
            " dense_1 (Dense)             (None, None, 10)          310       \n",
            "                                                                 \n",
            " dense_2 (Dense)             (None, None, 1)           11        \n",
            "                                                                 \n",
            " lambda (Lambda)             (None, None, 1)           0         \n",
            "                                                                 \n",
            "=================================================================\n",
            "Total params: 60,319\n",
            "Trainable params: 60,319\n",
            "Non-trainable params: 0\n",
            "_________________________________________________________________\n"
          ]
        }
      ]
    },
    {
      "cell_type": "code",
      "metadata": {
        "colab": {
          "base_uri": "https://localhost:8080/",
          "height": 291
        },
        "id": "vVcKmg7Q_7rD",
        "outputId": "057e50a6-5219-4756-dd3e-9e99b28873e2"
      },
      "source": [
        "#W3이랑 완전히 일치: 세미로그 그래프 보기 위함// 다음과 같은 일반적인 축을 가지는듯\n",
        "plt.semilogx(history.history[\"lr\"], history.history[\"loss\"])\n",
        "plt.axis([1e-8, 1e-4, 0, 60])"
      ],
      "execution_count": null,
      "outputs": [
        {
          "output_type": "execute_result",
          "data": {
            "text/plain": [
              "(1e-08, 0.0001, 0.0, 60.0)"
            ]
          },
          "metadata": {},
          "execution_count": 17
        },
        {
          "output_type": "display_data",
          "data": {
            "image/png": "[encoded data removed]",
            "text/plain": [
              "<Figure size 432x288 with 1 Axes>"
            ]
          },
          "metadata": {
            "needs_background": "light"
          }
        }
      ]
    },
    {
      "cell_type": "code",
      "metadata": {
        "id": "QsksvkcXAAgq",
        "colab": {
          "base_uri": "https://localhost:8080/"
        },
        "outputId": "0e7d0cdb-4583-4fff-9455-68067086c447"
      },
      "source": [
        "tf.keras.backend.clear_session()\n",
        "tf.random.set_seed(51)\n",
        "np.random.seed(51)\n",
        "#앞에꺼랑 달리 windowsize:30->60, batchsize32->100\n",
        "train_set = windowed_dataset(x_train, window_size=60, batch_size=100, shuffle_buffer=shuffle_buffer_size)\n",
        "model = tf.keras.models.Sequential([\n",
        "    # YOUR CODE HERE\n",
        "  tf.keras.layers.Conv1D(filters=60, kernel_size=5,  #filter:32->60\n",
        "                      strides=1, padding=\"causal\",\n",
        "                      activation=\"relu\",\n",
        "                      input_shape=[None, 1]),\n",
        "  tf.keras.layers.LSTM(60, return_sequences=True), #64->60\n",
        "  tf.keras.layers.LSTM(60, return_sequences=True),\n",
        "  tf.keras.layers.Dense(30, activation=\"relu\"),\n",
        "  tf.keras.layers.Dense(10, activation=\"relu\"),\n",
        "  tf.keras.layers.Dense(1),\n",
        "  tf.keras.layers.Lambda(lambda x: x * 400)\n",
        "])\n",
        "\n",
        "#위에 코드랑 다르게 lr_schedule생략\n",
        "optimizer = tf.keras.optimizers.SGD(learning_rate=1e-5, momentum=0.9)# YOUR CODE HERE, momentum=0.9)\n",
        "model.compile(loss=tf.keras.losses.Huber(),\n",
        "              optimizer=optimizer,\n",
        "              metrics=[\"mae\"])\n",
        "\n",
        "history = model.fit(train_set,epochs=150)# YOUR CODE HERE)  #epoch: 100->150\n",
        "\n",
        "# EXPECTED OUTPUT SHOULD SEE AN MAE OF <2 WITHIN ABOUT 30 EPOCHS"
      ],
      "execution_count": null,
      "outputs": [
        {
          "output_type": "stream",
          "name": "stdout",
          "text": [
            "Epoch 1/150\n",
            "25/25 [==============================] - 6s 38ms/step - loss: 9.9814 - mae: 10.4694\n",
            "Epoch 2/150\n",
            "25/25 [==============================] - 1s 39ms/step - loss: 2.5295 - mae: 2.9923\n",
            "Epoch 3/150\n",
            "25/25 [==============================] - 1s 40ms/step - loss: 1.9503 - mae: 2.4047\n",
            "Epoch 4/150\n",
            "25/25 [==============================] - 1s 39ms/step - loss: 1.8619 - mae: 2.3151\n",
            "Epoch 5/150\n",
            "25/25 [==============================] - 1s 39ms/step - loss: 1.8214 - mae: 2.2733\n",
            "Epoch 6/150\n",
            "25/25 [==============================] - 1s 40ms/step - loss: 1.7908 - mae: 2.2418\n",
            "Epoch 7/150\n",
            "25/25 [==============================] - 1s 39ms/step - loss: 1.7686 - mae: 2.2186\n",
            "Epoch 8/150\n",
            "25/25 [==============================] - 1s 40ms/step - loss: 1.7412 - mae: 2.1906\n",
            "Epoch 9/150\n",
            "25/25 [==============================] - 2s 62ms/step - loss: 1.7192 - mae: 2.1681\n",
            "Epoch 10/150\n",
            "25/25 [==============================] - 2s 59ms/step - loss: 1.7000 - mae: 2.1482\n",
            "Epoch 11/150\n",
            "25/25 [==============================] - 1s 41ms/step - loss: 1.6810 - mae: 2.1287\n",
            "Epoch 12/150\n",
            "25/25 [==============================] - 1s 40ms/step - loss: 1.6688 - mae: 2.1159\n",
            "Epoch 13/150\n",
            "25/25 [==============================] - 1s 39ms/step - loss: 1.6566 - mae: 2.1030\n",
            "Epoch 14/150\n",
            "25/25 [==============================] - 1s 40ms/step - loss: 1.6434 - mae: 2.0891\n",
            "Epoch 15/150\n",
            "25/25 [==============================] - 1s 40ms/step - loss: 1.6354 - mae: 2.0803\n",
            "Epoch 16/150\n",
            "25/25 [==============================] - 1s 40ms/step - loss: 1.6263 - mae: 2.0710\n",
            "Epoch 17/150\n",
            "25/25 [==============================] - 1s 40ms/step - loss: 1.6140 - mae: 2.0581\n",
            "Epoch 18/150\n",
            "25/25 [==============================] - 1s 41ms/step - loss: 1.6114 - mae: 2.0553\n",
            "Epoch 19/150\n",
            "25/25 [==============================] - 1s 39ms/step - loss: 1.6011 - mae: 2.0444\n",
            "Epoch 20/150\n",
            "25/25 [==============================] - 1s 40ms/step - loss: 1.5933 - mae: 2.0365\n",
            "Epoch 21/150\n",
            "25/25 [==============================] - 1s 39ms/step - loss: 1.5917 - mae: 2.0348\n",
            "Epoch 22/150\n",
            "25/25 [==============================] - 1s 40ms/step - loss: 1.5849 - mae: 2.0276\n",
            "Epoch 23/150\n",
            "25/25 [==============================] - 1s 41ms/step - loss: 1.5806 - mae: 2.0232\n",
            "Epoch 24/150\n",
            "25/25 [==============================] - 1s 40ms/step - loss: 1.5796 - mae: 2.0222\n",
            "Epoch 25/150\n",
            "25/25 [==============================] - 1s 40ms/step - loss: 1.5701 - mae: 2.0121\n",
            "Epoch 26/150\n",
            "25/25 [==============================] - 1s 40ms/step - loss: 1.5665 - mae: 2.0085\n",
            "Epoch 27/150\n",
            "25/25 [==============================] - 1s 41ms/step - loss: 1.5639 - mae: 2.0057\n",
            "Epoch 28/150\n",
            "25/25 [==============================] - 1s 41ms/step - loss: 1.5596 - mae: 2.0014\n",
            "Epoch 29/150\n",
            "25/25 [==============================] - 1s 40ms/step - loss: 1.5573 - mae: 1.9991\n",
            "Epoch 30/150\n",
            "25/25 [==============================] - 1s 41ms/step - loss: 1.5552 - mae: 1.9972\n",
            "Epoch 31/150\n",
            "25/25 [==============================] - 1s 40ms/step - loss: 1.5546 - mae: 1.9966\n",
            "Epoch 32/150\n",
            "25/25 [==============================] - 1s 40ms/step - loss: 1.5520 - mae: 1.9936\n",
            "Epoch 33/150\n",
            "25/25 [==============================] - 1s 39ms/step - loss: 1.5480 - mae: 1.9897\n",
            "Epoch 34/150\n",
            "25/25 [==============================] - 1s 41ms/step - loss: 1.5520 - mae: 1.9939\n",
            "Epoch 35/150\n",
            "25/25 [==============================] - 1s 43ms/step - loss: 1.5489 - mae: 1.9909\n",
            "Epoch 36/150\n",
            "25/25 [==============================] - 1s 39ms/step - loss: 1.5430 - mae: 1.9846\n",
            "Epoch 37/150\n",
            "25/25 [==============================] - 1s 38ms/step - loss: 1.5422 - mae: 1.9836\n",
            "Epoch 38/150\n",
            "25/25 [==============================] - 1s 39ms/step - loss: 1.5403 - mae: 1.9816\n",
            "Epoch 39/150\n",
            "25/25 [==============================] - 1s 40ms/step - loss: 1.5404 - mae: 1.9822\n",
            "Epoch 40/150\n",
            "25/25 [==============================] - 1s 39ms/step - loss: 1.5411 - mae: 1.9829\n",
            "Epoch 41/150\n",
            "25/25 [==============================] - 1s 38ms/step - loss: 1.5354 - mae: 1.9769\n",
            "Epoch 42/150\n",
            "25/25 [==============================] - 1s 39ms/step - loss: 1.5354 - mae: 1.9770\n",
            "Epoch 43/150\n",
            "25/25 [==============================] - 1s 40ms/step - loss: 1.5351 - mae: 1.9768\n",
            "Epoch 44/150\n",
            "25/25 [==============================] - 1s 40ms/step - loss: 1.5360 - mae: 1.9781\n",
            "Epoch 45/150\n",
            "25/25 [==============================] - 1s 39ms/step - loss: 1.5308 - mae: 1.9723\n",
            "Epoch 46/150\n",
            "25/25 [==============================] - 1s 40ms/step - loss: 1.5330 - mae: 1.9748\n",
            "Epoch 47/150\n",
            "25/25 [==============================] - 1s 39ms/step - loss: 1.5285 - mae: 1.9699\n",
            "Epoch 48/150\n",
            "25/25 [==============================] - 1s 39ms/step - loss: 1.5313 - mae: 1.9730\n",
            "Epoch 49/150\n",
            "25/25 [==============================] - 1s 41ms/step - loss: 1.5307 - mae: 1.9725\n",
            "Epoch 50/150\n",
            "25/25 [==============================] - 1s 40ms/step - loss: 1.5262 - mae: 1.9678\n",
            "Epoch 51/150\n",
            "25/25 [==============================] - 1s 39ms/step - loss: 1.5291 - mae: 1.9709\n",
            "Epoch 52/150\n",
            "25/25 [==============================] - 1s 40ms/step - loss: 1.5274 - mae: 1.9692\n",
            "Epoch 53/150\n",
            "25/25 [==============================] - 1s 38ms/step - loss: 1.5289 - mae: 1.9708\n",
            "Epoch 54/150\n",
            "25/25 [==============================] - 1s 40ms/step - loss: 1.5239 - mae: 1.9656\n",
            "Epoch 55/150\n",
            "25/25 [==============================] - 1s 40ms/step - loss: 1.5236 - mae: 1.9654\n",
            "Epoch 56/150\n",
            "25/25 [==============================] - 1s 40ms/step - loss: 1.5214 - mae: 1.9629\n",
            "Epoch 57/150\n",
            "25/25 [==============================] - 1s 40ms/step - loss: 1.5219 - mae: 1.9635\n",
            "Epoch 58/150\n",
            "25/25 [==============================] - 1s 40ms/step - loss: 1.5347 - mae: 1.9776\n",
            "Epoch 59/150\n",
            "25/25 [==============================] - 1s 40ms/step - loss: 1.5251 - mae: 1.9669\n",
            "Epoch 60/150\n",
            "25/25 [==============================] - 1s 41ms/step - loss: 1.5222 - mae: 1.9638\n",
            "Epoch 61/150\n",
            "25/25 [==============================] - 1s 39ms/step - loss: 1.5185 - mae: 1.9600\n",
            "Epoch 62/150\n",
            "25/25 [==============================] - 1s 39ms/step - loss: 1.5197 - mae: 1.9612\n",
            "Epoch 63/150\n",
            "25/25 [==============================] - 1s 41ms/step - loss: 1.5170 - mae: 1.9584\n",
            "Epoch 64/150\n",
            "25/25 [==============================] - 1s 42ms/step - loss: 1.5174 - mae: 1.9589\n",
            "Epoch 65/150\n",
            "25/25 [==============================] - 1s 40ms/step - loss: 1.5167 - mae: 1.9582\n",
            "Epoch 66/150\n",
            "25/25 [==============================] - 1s 41ms/step - loss: 1.5169 - mae: 1.9585\n",
            "Epoch 67/150\n",
            "25/25 [==============================] - 1s 41ms/step - loss: 1.5219 - mae: 1.9636\n",
            "Epoch 68/150\n",
            "25/25 [==============================] - 1s 42ms/step - loss: 1.5164 - mae: 1.9579\n",
            "Epoch 69/150\n",
            "25/25 [==============================] - 1s 41ms/step - loss: 1.5146 - mae: 1.9561\n",
            "Epoch 70/150\n",
            "25/25 [==============================] - 1s 40ms/step - loss: 1.5146 - mae: 1.9559\n",
            "Epoch 71/150\n",
            "25/25 [==============================] - 1s 42ms/step - loss: 1.5129 - mae: 1.9542\n",
            "Epoch 72/150\n",
            "25/25 [==============================] - 1s 41ms/step - loss: 1.5123 - mae: 1.9537\n",
            "Epoch 73/150\n",
            "25/25 [==============================] - 1s 40ms/step - loss: 1.5153 - mae: 1.9569\n",
            "Epoch 74/150\n",
            "25/25 [==============================] - 1s 41ms/step - loss: 1.5112 - mae: 1.9527\n",
            "Epoch 75/150\n",
            "25/25 [==============================] - 1s 42ms/step - loss: 1.5127 - mae: 1.9542\n",
            "Epoch 76/150\n",
            "25/25 [==============================] - 1s 42ms/step - loss: 1.5114 - mae: 1.9527\n",
            "Epoch 77/150\n",
            "25/25 [==============================] - 1s 41ms/step - loss: 1.5105 - mae: 1.9520\n",
            "Epoch 78/150\n",
            "25/25 [==============================] - 1s 42ms/step - loss: 1.5143 - mae: 1.9559\n",
            "Epoch 79/150\n",
            "25/25 [==============================] - 2s 56ms/step - loss: 1.5090 - mae: 1.9505\n",
            "Epoch 80/150\n",
            "25/25 [==============================] - 1s 42ms/step - loss: 1.5105 - mae: 1.9520\n",
            "Epoch 81/150\n",
            "25/25 [==============================] - 1s 40ms/step - loss: 1.5148 - mae: 1.9566\n",
            "Epoch 82/150\n",
            "25/25 [==============================] - 1s 42ms/step - loss: 1.5075 - mae: 1.9490\n",
            "Epoch 83/150\n",
            "25/25 [==============================] - 1s 42ms/step - loss: 1.5081 - mae: 1.9495\n",
            "Epoch 84/150\n",
            "25/25 [==============================] - 1s 41ms/step - loss: 1.5085 - mae: 1.9501\n",
            "Epoch 85/150\n",
            "25/25 [==============================] - 1s 42ms/step - loss: 1.5070 - mae: 1.9485\n",
            "Epoch 86/150\n",
            "25/25 [==============================] - 1s 43ms/step - loss: 1.5061 - mae: 1.9476\n",
            "Epoch 87/150\n",
            "25/25 [==============================] - 1s 41ms/step - loss: 1.5075 - mae: 1.9490\n",
            "Epoch 88/150\n",
            "25/25 [==============================] - 1s 42ms/step - loss: 1.5054 - mae: 1.9468\n",
            "Epoch 89/150\n",
            "25/25 [==============================] - 1s 41ms/step - loss: 1.5051 - mae: 1.9463\n",
            "Epoch 90/150\n",
            "25/25 [==============================] - 1s 42ms/step - loss: 1.5064 - mae: 1.9479\n",
            "Epoch 91/150\n",
            "25/25 [==============================] - 1s 44ms/step - loss: 1.5056 - mae: 1.9469\n",
            "Epoch 92/150\n",
            "25/25 [==============================] - 1s 42ms/step - loss: 1.5046 - mae: 1.9459\n",
            "Epoch 93/150\n",
            "25/25 [==============================] - 1s 43ms/step - loss: 1.5033 - mae: 1.9446\n",
            "Epoch 94/150\n",
            "25/25 [==============================] - 1s 43ms/step - loss: 1.5023 - mae: 1.9438\n",
            "Epoch 95/150\n",
            "25/25 [==============================] - 1s 44ms/step - loss: 1.5111 - mae: 1.9530\n",
            "Epoch 96/150\n",
            "25/25 [==============================] - 1s 42ms/step - loss: 1.5035 - mae: 1.9449\n",
            "Epoch 97/150\n",
            "25/25 [==============================] - 1s 42ms/step - loss: 1.5052 - mae: 1.9469\n",
            "Epoch 98/150\n",
            "25/25 [==============================] - 1s 45ms/step - loss: 1.5057 - mae: 1.9470\n",
            "Epoch 99/150\n",
            "25/25 [==============================] - 1s 41ms/step - loss: 1.5013 - mae: 1.9426\n",
            "Epoch 100/150\n",
            "25/25 [==============================] - 1s 42ms/step - loss: 1.5012 - mae: 1.9425\n",
            "Epoch 101/150\n",
            "25/25 [==============================] - 1s 43ms/step - loss: 1.5014 - mae: 1.9428\n",
            "Epoch 102/150\n",
            "25/25 [==============================] - 1s 43ms/step - loss: 1.4997 - mae: 1.9411\n",
            "Epoch 103/150\n",
            "25/25 [==============================] - 1s 42ms/step - loss: 1.5000 - mae: 1.9412\n",
            "Epoch 104/150\n",
            "25/25 [==============================] - 1s 44ms/step - loss: 1.5006 - mae: 1.9419\n",
            "Epoch 105/150\n",
            "25/25 [==============================] - 1s 42ms/step - loss: 1.4999 - mae: 1.9411\n",
            "Epoch 106/150\n",
            "25/25 [==============================] - 1s 43ms/step - loss: 1.4998 - mae: 1.9412\n",
            "Epoch 107/150\n",
            "25/25 [==============================] - 1s 42ms/step - loss: 1.5016 - mae: 1.9430\n",
            "Epoch 108/150\n",
            "25/25 [==============================] - 1s 43ms/step - loss: 1.5004 - mae: 1.9415\n",
            "Epoch 109/150\n",
            "25/25 [==============================] - 1s 43ms/step - loss: 1.5001 - mae: 1.9414\n",
            "Epoch 110/150\n",
            "25/25 [==============================] - 1s 44ms/step - loss: 1.5015 - mae: 1.9428\n",
            "Epoch 111/150\n",
            "25/25 [==============================] - 1s 43ms/step - loss: 1.4988 - mae: 1.9401\n",
            "Epoch 112/150\n",
            "25/25 [==============================] - 1s 41ms/step - loss: 1.4977 - mae: 1.9389\n",
            "Epoch 113/150\n",
            "25/25 [==============================] - 1s 42ms/step - loss: 1.4966 - mae: 1.9378\n",
            "Epoch 114/150\n",
            "25/25 [==============================] - 1s 43ms/step - loss: 1.4968 - mae: 1.9380\n",
            "Epoch 115/150\n",
            "25/25 [==============================] - 1s 41ms/step - loss: 1.4967 - mae: 1.9378\n",
            "Epoch 116/150\n",
            "25/25 [==============================] - 1s 40ms/step - loss: 1.4979 - mae: 1.9392\n",
            "Epoch 117/150\n",
            "25/25 [==============================] - 1s 40ms/step - loss: 1.4966 - mae: 1.9378\n",
            "Epoch 118/150\n",
            "25/25 [==============================] - 1s 41ms/step - loss: 1.4973 - mae: 1.9384\n",
            "Epoch 119/150\n",
            "25/25 [==============================] - 1s 42ms/step - loss: 1.4960 - mae: 1.9370\n",
            "Epoch 120/150\n",
            "25/25 [==============================] - 1s 40ms/step - loss: 1.4971 - mae: 1.9382\n",
            "Epoch 121/150\n",
            "25/25 [==============================] - 1s 39ms/step - loss: 1.5011 - mae: 1.9427\n",
            "Epoch 122/150\n",
            "25/25 [==============================] - 1s 40ms/step - loss: 1.4966 - mae: 1.9375\n",
            "Epoch 123/150\n",
            "25/25 [==============================] - 1s 41ms/step - loss: 1.5012 - mae: 1.9424\n",
            "Epoch 124/150\n",
            "25/25 [==============================] - 1s 40ms/step - loss: 1.4959 - mae: 1.9371\n",
            "Epoch 125/150\n",
            "25/25 [==============================] - 1s 41ms/step - loss: 1.4955 - mae: 1.9366\n",
            "Epoch 126/150\n",
            "25/25 [==============================] - 1s 42ms/step - loss: 1.4952 - mae: 1.9360\n",
            "Epoch 127/150\n",
            "25/25 [==============================] - 1s 40ms/step - loss: 1.4945 - mae: 1.9354\n",
            "Epoch 128/150\n",
            "25/25 [==============================] - 1s 40ms/step - loss: 1.4942 - mae: 1.9350\n",
            "Epoch 129/150\n",
            "25/25 [==============================] - 1s 41ms/step - loss: 1.4928 - mae: 1.9337\n",
            "Epoch 130/150\n",
            "25/25 [==============================] - 1s 40ms/step - loss: 1.4962 - mae: 1.9374\n",
            "Epoch 131/150\n",
            "25/25 [==============================] - 1s 40ms/step - loss: 1.4926 - mae: 1.9336\n",
            "Epoch 132/150\n",
            "25/25 [==============================] - 1s 42ms/step - loss: 1.5004 - mae: 1.9415\n",
            "Epoch 133/150\n",
            "25/25 [==============================] - 1s 43ms/step - loss: 1.4971 - mae: 1.9380\n",
            "Epoch 134/150\n",
            "25/25 [==============================] - 1s 41ms/step - loss: 1.4968 - mae: 1.9382\n",
            "Epoch 135/150\n",
            "25/25 [==============================] - 1s 42ms/step - loss: 1.4917 - mae: 1.9323\n",
            "Epoch 136/150\n",
            "25/25 [==============================] - 1s 42ms/step - loss: 1.4927 - mae: 1.9334\n",
            "Epoch 137/150\n",
            "25/25 [==============================] - 1s 42ms/step - loss: 1.4957 - mae: 1.9364\n",
            "Epoch 138/150\n",
            "25/25 [==============================] - 1s 42ms/step - loss: 1.4922 - mae: 1.9330\n",
            "Epoch 139/150\n",
            "25/25 [==============================] - 1s 42ms/step - loss: 1.4915 - mae: 1.9322\n",
            "Epoch 140/150\n",
            "25/25 [==============================] - 1s 40ms/step - loss: 1.4917 - mae: 1.9325\n",
            "Epoch 141/150\n",
            "25/25 [==============================] - 1s 41ms/step - loss: 1.4905 - mae: 1.9312\n",
            "Epoch 142/150\n",
            "25/25 [==============================] - 1s 42ms/step - loss: 1.4897 - mae: 1.9305\n",
            "Epoch 143/150\n",
            "25/25 [==============================] - 1s 41ms/step - loss: 1.4924 - mae: 1.9334\n",
            "Epoch 144/150\n",
            "25/25 [==============================] - 1s 42ms/step - loss: 1.4920 - mae: 1.9326\n",
            "Epoch 145/150\n",
            "25/25 [==============================] - 1s 41ms/step - loss: 1.4894 - mae: 1.9300\n",
            "Epoch 146/150\n",
            "25/25 [==============================] - 1s 43ms/step - loss: 1.4957 - mae: 1.9365\n",
            "Epoch 147/150\n",
            "25/25 [==============================] - 1s 42ms/step - loss: 1.4901 - mae: 1.9307\n",
            "Epoch 148/150\n",
            "25/25 [==============================] - 1s 42ms/step - loss: 1.4893 - mae: 1.9301\n",
            "Epoch 149/150\n",
            "25/25 [==============================] - 1s 44ms/step - loss: 1.4900 - mae: 1.9307\n",
            "Epoch 150/150\n",
            "25/25 [==============================] - 1s 41ms/step - loss: 1.4889 - mae: 1.9293\n"
          ]
        }
      ]
    },
    {
      "cell_type": "code",
      "source": [
        "#위모델과 모양다름\n",
        "model.summary()"
      ],
      "metadata": {
        "colab": {
          "base_uri": "https://localhost:8080/"
        },
        "id": "WZv9M-wrw6VR",
        "outputId": "0f757c16-7bf1-46ae-996f-82cdd12d1a65"
      },
      "execution_count": null,
      "outputs": [
        {
          "output_type": "stream",
          "name": "stdout",
          "text": [
            "Model: \"sequential\"\n",
            "_________________________________________________________________\n",
            " Layer (type)                Output Shape              Param #   \n",
            "=================================================================\n",
            " conv1d (Conv1D)             (None, None, 60)          360       \n",
            "                                                                 \n",
            " lstm (LSTM)                 (None, None, 60)          29040     \n",
            "                                                                 \n",
            " lstm_1 (LSTM)               (None, None, 60)          29040     \n",
            "                                                                 \n",
            " dense (Dense)               (None, None, 30)          1830      \n",
            "                                                                 \n",
            " dense_1 (Dense)             (None, None, 10)          310       \n",
            "                                                                 \n",
            " dense_2 (Dense)             (None, None, 1)           11        \n",
            "                                                                 \n",
            " lambda (Lambda)             (None, None, 1)           0         \n",
            "                                                                 \n",
            "=================================================================\n",
            "Total params: 60,591\n",
            "Trainable params: 60,591\n",
            "Non-trainable params: 0\n",
            "_________________________________________________________________\n"
          ]
        }
      ]
    },
    {
      "cell_type": "code",
      "metadata": {
        "id": "GaC6NNMRp0lb"
      },
      "source": [
        "#모델 직접 사용\n",
        "rnn_forecast = model_forecast(model, series[..., np.newaxis], window_size)\n",
        "rnn_forecast = rnn_forecast[split_time - window_size:-1, -1, 0]\n"
      ],
      "execution_count": null,
      "outputs": []
    },
    {
      "cell_type": "code",
      "metadata": {
        "id": "PrktQX3hKYex",
        "colab": {
          "base_uri": "https://localhost:8080/",
          "height": 389
        },
        "outputId": "15773274-1005-4bc1-c7e5-9381f7b0e827"
      },
      "source": [
        "plt.figure(figsize=(10, 6))\n",
        "#x_valid가 파란색, rnn_forecast가 주황색임\n",
        "plot_series(time_valid, x_valid)\n",
        "plot_series(time_valid, rnn_forecast)\n",
        "\n",
        "# EXPECTED OUTPUT. PLOT SHOULD SHOW PROJECTIONS FOLLOWING ORIGINAL DATA CLOSELY"
      ],
      "execution_count": null,
      "outputs": [
        {
          "output_type": "display_data",
          "data": {
            "image/png": "[encoded data removed]",
            "text/plain": [
              "<Figure size 720x432 with 1 Axes>"
            ]
          },
          "metadata": {
            "needs_background": "light"
          }
        }
      ]
    },
    {
      "cell_type": "code",
      "metadata": {
        "id": "13XrorC5wQoE",
        "colab": {
          "base_uri": "https://localhost:8080/"
        },
        "outputId": "e0568299-c16b-4c05-ccba-f18b1ca992ed"
      },
      "source": [
        "#MAE출력\n",
        "tf.keras.metrics.mean_absolute_error(x_valid, rnn_forecast).numpy()\n",
        "\n",
        "# EXPECTED OUTPUT MAE < 2 -- I GOT 1.789626"
      ],
      "execution_count": null,
      "outputs": [
        {
          "output_type": "execute_result",
          "data": {
            "text/plain": [
              "1.7796227"
            ]
          },
          "metadata": {},
          "execution_count": 13
        }
      ]
    },
    {
      "cell_type": "code",
      "metadata": {
        "id": "AOVzQXxCwkzP",
        "colab": {
          "base_uri": "https://localhost:8080/"
        },
        "outputId": "8b75348b-03e0-45ac-ea9e-8ccd4a10efc3"
      },
      "source": [
        "print(rnn_forecast)\n",
        "\n",
        "# EXPECTED OUTPUT -- ARRAY OF VALUES IN THE LOW TEENS"
      ],
      "execution_count": null,
      "outputs": [
        {
          "output_type": "stream",
          "name": "stdout",
          "text": [
            "[11.329519 10.705622 12.124979 ... 13.604394 13.796719 15.009302]\n"
          ]
        }
      ]
    },
    {
      "cell_type": "code",
      "source": [
        ""
      ],
      "metadata": {
        "id": "Rz4XMvXBrt_0"
      },
      "execution_count": null,
      "outputs": []
    }
  ]
}